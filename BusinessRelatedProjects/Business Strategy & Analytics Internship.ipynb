{
 "cells": [
  {
   "cell_type": "markdown",
   "metadata": {
    "colab_type": "text",
    "id": "J2qSeNuH6MQq"
   },
   "source": [
    "**Chandravesh Chaudhari**  \n",
    "Email  : chandraveshchaudhari@gmail.com  \n",
    "Mobile : 8006966608"
   ]
  },
  {
   "cell_type": "markdown",
   "metadata": {
    "colab_type": "text",
    "id": "6zjr-Q-v6MQu"
   },
   "source": [
    "### FACTS\n",
    "- average card balance is Rs 1000  \n",
    "- each card has an interest rate of 15%  \n",
    "- membership fee is Rs 20 per card  \n",
    "- loss rate is 3% (NOTE: what are the interpretations of this ? state your assumption CLEARLY when solving)  \n",
    "- Rs 25 operating cost per card  \n",
    "- Rs 10 affiliation fee per card (cost to the group organization itself, so that their members get this awesome card program)  \n",
    "- 6.5% cost of funds (that credit card company must pay to the bank where it gets money)  \n",
    "- bill/statement is issued on 1st of every month\n",
    "- credit-free period = 15 days from the bill/statement issue date.  "
   ]
  },
  {
   "cell_type": "markdown",
   "metadata": {
    "colab_type": "text",
    "id": "kq7zE5wu6MQw"
   },
   "source": [
    "## Scenario 1:\n",
    " i) The interest rate is simple interest.  \n",
    " ii) Interest is calculated on a daily basis.  \n",
    " iii) The average card balance is the average end of month balance.  \n",
    " iv) All members are more than a year old.\n",
    " "
   ]
  },
  {
   "cell_type": "markdown",
   "metadata": {
    "colab_type": "text",
    "id": "IFxJrPb-6MQz"
   },
   "source": [
    "### Types of customers:\n",
    "Total 1000 customers, assume 250 for each types for simplicity   \n",
    "1.customers who pay the bill within the credit-free period  \n",
    "2.customers paying 30 days after the last due date  \n",
    "3.customer paying 45 days after the last due date  \n",
    "4.customer paying 60 days after the last due date(remove these customers for the complete calculation of the next month,basically, you are not supposed to provide further credit services to these customers)"
   ]
  },
  {
   "cell_type": "code",
   "execution_count": null,
   "metadata": {
    "colab": {},
    "colab_type": "code",
    "id": "RvzsyyP_6MQ1"
   },
   "outputs": [],
   "source": [
    "# Functions to solve calculations\n",
    "def SimpleInterest(P,I,T):\n",
    "    '''\n",
    "    P = Principal\n",
    "    I = Interest\n",
    "    T = Time\n",
    "    '''\n",
    "    I = I/100\n",
    "    product = P*I*T\n",
    "    return product\n",
    "givenINTEREST = 15\n",
    "month_interest = givenINTEREST/12\n",
    "\n",
    "def dailyInterest(month_interest):\n",
    "    product = month_interest/30\n",
    "    return product\n",
    "    "
   ]
  },
  {
   "cell_type": "markdown",
   "metadata": {
    "colab_type": "text",
    "id": "Y4jD7ql_6MQ6"
   },
   "source": [
    "### Questions"
   ]
  },
  {
   "cell_type": "markdown",
   "metadata": {
    "colab_type": "text",
    "id": "o7oJZyCg6MQ8"
   },
   "source": [
    "Q1: How much profit % is generated in 1 year? "
   ]
  },
  {
   "cell_type": "markdown",
   "metadata": {
    "colab_type": "text",
    "id": "0QEBaWLn6MQ-"
   },
   "source": [
    "Simple Interest for every types of customers:\n",
    "1. zero  &#8377;\n",
    "2. 12.49 &#8377;\n",
    "3. 18.75 &#8377;\n",
    "4. 24.99 + principal &#8377;"
   ]
  },
  {
   "cell_type": "code",
   "execution_count": 23,
   "metadata": {
    "colab": {
     "base_uri": "https://localhost:8080/",
     "height": 170
    },
    "colab_type": "code",
    "executionInfo": {
     "elapsed": 3297,
     "status": "ok",
     "timestamp": 1577212617847,
     "user": {
      "displayName": "Chandravesh Chaudhari",
      "photoUrl": "https://lh3.googleusercontent.com/a-/AAuE7mD1vVdyu9kFcoewDa0XXb66Vfvgov7-mDu1hOJ3oJY=s64",
      "userId": "09362484347045214645"
     },
     "user_tz": -330
    },
    "id": "0pI_3Gca6MQ_",
    "outputId": "dd35359b-27c5-4caa-8bab-4be4fb127188"
   },
   "outputs": [
    {
     "name": "stdout",
     "output_type": "stream",
     "text": [
      "One day Interest:  0.041666666666666664\n",
      "one customer of SECOND type owe: 12.499999999999998 \n",
      "ALL second type of customers interest:  3124.9999999999995\n",
      "one customer of THIRD type owe: 18.75\n",
      "ALL third type of customers interest:  4687.5\n",
      "one customer of FOURTH type owe: 24.999999999999996\n",
      "ALL fourth type of customers interest:  6249.999999999999\n",
      "\n",
      "Total simple interest received by company:   14062.5\n"
     ]
    }
   ],
   "source": [
    "onedayInt = dailyInterest(month_interest)\n",
    "print(\"One day Interest: \",onedayInt)\n",
    "\n",
    "cus2 = SimpleInterest(1000, onedayInt, 30)\n",
    "print(\"one customer of SECOND type owe:\",cus2,\"\")\n",
    "cus2 = 250*cus2\n",
    "print(\"ALL second type of customers interest: \",cus2)\n",
    "\n",
    "cus3 = SimpleInterest(1000, onedayInt, 45)\n",
    "print(\"one customer of THIRD type owe:\",cus3)\n",
    "cus3 = 250*cus3\n",
    "print(\"ALL third type of customers interest: \",cus3)\n",
    "\n",
    "cus4 = SimpleInterest(1000, onedayInt, 60)\n",
    "print(\"one customer of FOURTH type owe:\",cus4)\n",
    "cus4 = 250*cus4\n",
    "print(\"ALL fourth type of customers interest: \",cus4)\n",
    "\n",
    "TotalSInterest =cus2 + cus3+ cus4\n",
    "print()\n",
    "print(\"Total simple interest received by company:  \",TotalSInterest)"
   ]
  },
  {
   "cell_type": "markdown",
   "metadata": {
    "colab_type": "text",
    "id": "-pYeq4d26MRG"
   },
   "source": [
    "Taken Simple Interest, operating cost and cost of funds in account and Ignorned other charges"
   ]
  },
  {
   "cell_type": "code",
   "execution_count": 24,
   "metadata": {
    "colab": {
     "base_uri": "https://localhost:8080/",
     "height": 51
    },
    "colab_type": "code",
    "executionInfo": {
     "elapsed": 3277,
     "status": "ok",
     "timestamp": 1577212617849,
     "user": {
      "displayName": "Chandravesh Chaudhari",
      "photoUrl": "https://lh3.googleusercontent.com/a-/AAuE7mD1vVdyu9kFcoewDa0XXb66Vfvgov7-mDu1hOJ3oJY=s64",
      "userId": "09362484347045214645"
     },
     "user_tz": -330
    },
    "id": "PsxyOyKh6MRH",
    "outputId": "2a65491c-850a-47d6-bd21-9be68c919bee"
   },
   "outputs": [
    {
     "name": "stdout",
     "output_type": "stream",
     "text": [
      "38997.5\n",
      "The profit % is generated in 1 year is:  3.8997499999999996 %\n"
     ]
    }
   ],
   "source": [
    "OperatingCost = 25*1000\n",
    "Costofcapital = SimpleInterest(1000,6.5,1)\n",
    "profit = TotalSInterest +OperatingCost-Costofcapital\n",
    "print(profit)\n",
    "profitPercentage = profit/1000000\n",
    "print(\"The profit % is generated in 1 year is: \",profitPercentage*100,\"%\")"
   ]
  },
  {
   "cell_type": "markdown",
   "metadata": {
    "colab_type": "text",
    "id": "pOdscL9j6MRM"
   },
   "source": [
    "Q2: The 3% loss rate can either mean either 3% of the outstanding balance defaults or 3% of the borrowers default on their entire balance. If the average balance is increased to $2000, what happens to the loss?"
   ]
  },
  {
   "cell_type": "code",
   "execution_count": 25,
   "metadata": {
    "colab": {
     "base_uri": "https://localhost:8080/",
     "height": 51
    },
    "colab_type": "code",
    "executionInfo": {
     "elapsed": 3254,
     "status": "ok",
     "timestamp": 1577212617851,
     "user": {
      "displayName": "Chandravesh Chaudhari",
      "photoUrl": "https://lh3.googleusercontent.com/a-/AAuE7mD1vVdyu9kFcoewDa0XXb66Vfvgov7-mDu1hOJ3oJY=s64",
      "userId": "09362484347045214645"
     },
     "user_tz": -330
    },
    "id": "TD9aahsT6MRO",
    "outputId": "38f487a9-542e-42d6-8b97-a58f39f5e307"
   },
   "outputs": [
    {
     "name": "stdout",
     "output_type": "stream",
     "text": [
      "60000.0\n",
      "843.75\n"
     ]
    }
   ],
   "source": [
    "# 3% of the borrowers default on their entire balance\n",
    "print(1000*2000*3/100)\n",
    "# 3% of the outstanding balance\n",
    "print(2*TotalSInterest*3/100)"
   ]
  },
  {
   "cell_type": "markdown",
   "metadata": {
    "colab_type": "text",
    "id": "XCGjqEIe6MRT"
   },
   "source": [
    "Q3: Is a borrower with a low balance more or less likely to default then a borrower with a high balance? Why ? explain clearly"
   ]
  },
  {
   "cell_type": "markdown",
   "metadata": {
    "colab_type": "text",
    "id": "ePyhKv9rkUYh"
   },
   "source": [
    "\n",
    "Some of the factors which could contribute to default are:\n",
    "\n",
    "-The borrower’s credit score in the year prior to entering repayment;  \n",
    "-The type of debt held by the borrower prior to repayment (household debt versus medical/utility debt);  \n",
    "-Whether the borrower has some sort of debt in collections in the year prior to repayment  \n",
    "\n",
    "According to this research paper, Most Defaults Are Concentrated among Low-Balance Borrowers in student loans. page (16)\n",
    "https://www.urban.org/sites/default/files/publication/98884/underwater_on_student_debt.pdf  \n",
    "Another paper show, Why aren’t large-balance borrowers\n",
    "repaying their loans? page(23)  \n",
    "\n",
    "https://www.brookings.edu/wp-content/uploads/2018/02/es_20180216_looneylargebalances.pdf  \n",
    "so it depend on many features and different for different types of borrowers.\n"
   ]
  },
  {
   "cell_type": "markdown",
   "metadata": {
    "colab_type": "text",
    "id": "Ly8NAkOh6MRV"
   },
   "source": [
    "Q4: The group company has now become unhappy with the credit card provider. it wants to start its own credit card. But for that, it will need to purchase the customers from the current credit card company. If the affilated group offered Rs 20 per account to purchase all the customers from the credit card company, what would there profit be? (assume that we are only talking about 1 year)"
   ]
  },
  {
   "cell_type": "code",
   "execution_count": 26,
   "metadata": {
    "colab": {
     "base_uri": "https://localhost:8080/",
     "height": 51
    },
    "colab_type": "code",
    "executionInfo": {
     "elapsed": 3216,
     "status": "ok",
     "timestamp": 1577212617853,
     "user": {
      "displayName": "Chandravesh Chaudhari",
      "photoUrl": "https://lh3.googleusercontent.com/a-/AAuE7mD1vVdyu9kFcoewDa0XXb66Vfvgov7-mDu1hOJ3oJY=s64",
      "userId": "09362484347045214645"
     },
     "user_tz": -330
    },
    "id": "DDgRVEOP6MRW",
    "outputId": "b32ea269-405c-499b-8e8f-eb0aa99e1a55"
   },
   "outputs": [
    {
     "name": "stdout",
     "output_type": "stream",
     "text": [
      "Profit by Credit card Provider :48997.5\n",
      "Profit by Group Company :19062.5\n"
     ]
    }
   ],
   "source": [
    "'''\n",
    "Facts with Assumptions:\n",
    "membership fee is Rs 20 per card every year = 20000 total and its been paid in the begining. so group company will not ask for it again.\n",
    "Rs 25 operating cost per card\n",
    "average card balance is Rs 1000\n",
    "1. Rs 10 affiliation fee per card = 10000 total(it will not be paid by the group company after purchase of all the customers)\n",
    "6.5% cost of funds (funds will be of group company so no external cost of funds)\n",
    "\n",
    "affilated group offered Rs 20 per account = 20*1000 = -20000\n",
    "25 operating cost per card = 25*1000 = 25000\n",
    "average card balance = 1000*1000 = 1000000\n",
    "'''\n",
    "affiliationFee = 10000\n",
    "membershipFee = 20000 # Exclude the membership fee\n",
    "\n",
    "purchaseCustomers = 20*1000\n",
    "ProfitbyCreditcardProvider = TotalSInterest + OperatingCost + affiliationFee  -Costofcapital\n",
    "print(\"Profit by Credit card Provider :{}\".format(ProfitbyCreditcardProvider))\n",
    "\n",
    "ProfitbygroupCompany = TotalSInterest + OperatingCost - purchaseCustomers\n",
    "print(\"Profit by Group Company :{}\".format(ProfitbygroupCompany))"
   ]
  },
  {
   "cell_type": "markdown",
   "metadata": {
    "colab_type": "text",
    "id": "0Lhqa3k06MRb"
   },
   "source": [
    "Q5: What numbers can the financial institution change to convince the affiliated group not to want to purchase, while still not going into a loss? Give a range of what the new numbers are (min and max)."
   ]
  },
  {
   "cell_type": "code",
   "execution_count": 27,
   "metadata": {
    "colab": {
     "base_uri": "https://localhost:8080/",
     "height": 51
    },
    "colab_type": "code",
    "executionInfo": {
     "elapsed": 3201,
     "status": "ok",
     "timestamp": 1577212617855,
     "user": {
      "displayName": "Chandravesh Chaudhari",
      "photoUrl": "https://lh3.googleusercontent.com/a-/AAuE7mD1vVdyu9kFcoewDa0XXb66Vfvgov7-mDu1hOJ3oJY=s64",
      "userId": "09362484347045214645"
     },
     "user_tz": -330
    },
    "id": "XNx8iibX6MRd",
    "outputId": "e9328a14-260f-4e4c-8501-be99e635872f"
   },
   "outputs": [
    {
     "name": "stdout",
     "output_type": "stream",
     "text": [
      "Profit by Credit card Provider :38997.5\n",
      "difference between profits : 19935.0\n"
     ]
    }
   ],
   "source": [
    "ProfitbyCreditcardProvider = TotalSInterest + OperatingCost  - Costofcapital\n",
    "print(\"Profit by Credit card Provider :{}\".format(ProfitbyCreditcardProvider))\n",
    "# credit card provider can offer group company no affiliation fee. and also give them more cost of capital according to new deal.\n",
    "print (\"difference between profits :\",(ProfitbyCreditcardProvider-ProfitbygroupCompany))"
   ]
  },
  {
   "cell_type": "markdown",
   "metadata": {
    "colab_type": "text",
    "id": "ZEs1os536MRi"
   },
   "source": [
    "Q6: What is the extra cost(if any) company will have to incur if the customer delays the payment of the credit card bill after the due date?"
   ]
  },
  {
   "cell_type": "markdown",
   "metadata": {
    "colab_type": "text",
    "id": "EERqRmkr6MRj"
   },
   "source": [
    "Ans- No extra cost in delay payment, company will get 15% interest from customer and only have to pay 6.5% cost of capital. company will face loss if the customer default in payment."
   ]
  },
  {
   "cell_type": "markdown",
   "metadata": {
    "colab_type": "text",
    "id": "AC6cNVXV6MRl"
   },
   "source": [
    "Q7: Is it beneficial for the company if the customer pays the credit card bill after the due date? (express your views as a business strategy analyst with a short example)"
   ]
  },
  {
   "cell_type": "markdown",
   "metadata": {
    "colab_type": "text",
    "id": "AGL2g_yq6MRn"
   },
   "source": [
    "Ans- Company will earn more profit if the customer pays more interest. But that comes with risk of default and because of that company can increase the interest rate. so more risk, more possiblity of profit."
   ]
  },
  {
   "cell_type": "markdown",
   "metadata": {
    "colab_type": "text",
    "id": "Fv8uNqor6MRo"
   },
   "source": [
    "## Scenario 2:\n",
    " i) The interest rate is compounded quarterly.  \n",
    " ii) Interest is calculated on a monthly basis.   \n",
    " (these upper two lines don't makes sense to me so i would find compound interest of daily like simple interest in scenario 1)  \n",
    " iii) Membership grows at 5% month on month.  (assuming membership increase by month and 1000 customers increases)  \n",
    " iv) Card balance grows at 5% per month for each member.  (card balance increases by 5% using card without paying due)  \n",
    " v) The average card balance is the average end of month balance.\n",
    " "
   ]
  },
  {
   "cell_type": "markdown",
   "metadata": {
    "colab_type": "text",
    "id": "OXHzELXO6MRq"
   },
   "source": [
    "Example: If your credit card has an  Annual Percentage Rate of 15 percent, it will have a daily rate of .041096 percent. Let’s say a cardholder has a balance of 1000 at the 15 percent  Annual Percentage Rate standard interest rate. The next day, interest is added and the balance becomes 1,000.41, plus any additional purchases and minus any new credits or payments. This process occurs each day until the end of the cardholder’s monthly statement cycle. So at the end of the month, the beginning 1,000 balance becomes $1013 when interest charges are applied at 15 percent Annual Percentage Rate."
   ]
  },
  {
   "cell_type": "markdown",
   "metadata": {
    "colab_type": "text",
    "id": "FNEAKkZC6MRr"
   },
   "source": [
    "### Types of customers:\n",
    "Total 1000 customers, assume 250 for each types for simplicity   \n",
    "1.customers who pay the bill within the credit-free period  \n",
    "2.customers paying 30 days after the last due date  \n",
    "3.customer paying 45 days after the last due date  \n",
    "4.customer paying 60 days after the last due date(remove these customers for the complete calculation of the next month,basically, you are not supposed to provide further credit services to these customers)"
   ]
  },
  {
   "cell_type": "code",
   "execution_count": null,
   "metadata": {
    "colab": {},
    "colab_type": "code",
    "id": "F7WOKq1J6MRt"
   },
   "outputs": [],
   "source": [
    "# quaterly compound Interest\n",
    "def quaterlyCompoundInterest(P,I,T,n):\n",
    "    '''\n",
    "    P = Principal\n",
    "    I = Interest per year\n",
    "    T = Time (total years)\n",
    "    n= no. of times the interest is compounded\n",
    "    '''\n",
    "    I = I / n\n",
    "    T = n*T\n",
    "    product = P * (pow((1 + I / 100), T)) \n",
    "    NewPrincipal = product - P\n",
    "    return NewPrincipal\n"
   ]
  },
  {
   "cell_type": "code",
   "execution_count": 29,
   "metadata": {
    "colab": {
     "base_uri": "https://localhost:8080/",
     "height": 34
    },
    "colab_type": "code",
    "executionInfo": {
     "elapsed": 3175,
     "status": "ok",
     "timestamp": 1577212617859,
     "user": {
      "displayName": "Chandravesh Chaudhari",
      "photoUrl": "https://lh3.googleusercontent.com/a-/AAuE7mD1vVdyu9kFcoewDa0XXb66Vfvgov7-mDu1hOJ3oJY=s64",
      "userId": "09362484347045214645"
     },
     "user_tz": -330
    },
    "id": "XNQAz5iz93zg",
    "outputId": "a8ef265d-d595-42b3-8919-d463a21ad523"
   },
   "outputs": [
    {
     "name": "stdout",
     "output_type": "stream",
     "text": [
      "0.0410958904109589\n"
     ]
    }
   ],
   "source": [
    "dailyCompoundInterest = 15/365\n",
    "print(dailyCompoundInterest)"
   ]
  },
  {
   "cell_type": "code",
   "execution_count": null,
   "metadata": {
    "colab": {},
    "colab_type": "code",
    "id": "5FwiC_LJ6MRy"
   },
   "outputs": [],
   "source": [
    "def CompoundInterest(P,I,T):\n",
    "    '''\n",
    "    P = Principal\n",
    "    I = Interest per year\n",
    "    T = Time (total years)\n",
    "    '''\n",
    "    product = P * (pow((1 + I / 100), T)) \n",
    "    NewPrincipal = product - P\n",
    "    return NewPrincipal"
   ]
  },
  {
   "cell_type": "code",
   "execution_count": null,
   "metadata": {
    "colab": {},
    "colab_type": "code",
    "id": "DEIOEMDiK93W"
   },
   "outputs": [],
   "source": [
    "# 2nd approach where membership and principal amount increases every month like in 3 and 4 point in scenario 2.\n",
    "def CompoundInterest2nd(months,membership,principal):\n",
    "  \"\"\"\n",
    "  membership can be only in whole no. but for accuracy, I have taken it as float no.\n",
    "  another approach could have been by using equivalent java code using currentMonth and inputMonth\n",
    "  public static void compoundInterest(int inputMonth){\n",
    "\tint currentMonth = 1; \n",
    "\n",
    "\twhile(currentMonth <= inputMonth){\n",
    "\tSystem.out.println(currentMonth);\n",
    "\tcurrentMonth = currentMonth + 1;\n",
    "\t}\n",
    "  \"\"\"\n",
    "  total = 0\n",
    "  i = 1\n",
    "  months = months +1\n",
    "  while i < months:\n",
    "    months=months-1\n",
    "    print(\"month: \",-(months-13))\n",
    "    membershipIncrease = membership * .05\n",
    "    membership = membership + membershipIncrease\n",
    "    print(\"membership: \",membership)\n",
    "    print(\"principal: \",principal)\n",
    "    principalIncrease = principal *.05\n",
    "    principal = principal + principalIncrease\n",
    "    print(\"Updated principal: \",principal)\n",
    "    Principal = principal * membership\n",
    "    print(\"Final Principal of all customers: \",Principal)\n",
    "    CI = CompoundInterest(Principal,dailyCompoundInterest,30)\n",
    "    print(\"Compound Interest of this month: \",CI)\n",
    "    Sum = total + CI\n",
    "    print()\n",
    "  print(\"Total Interest in final month is: \",Sum)"
   ]
  },
  {
   "cell_type": "code",
   "execution_count": 32,
   "metadata": {
    "colab": {
     "base_uri": "https://localhost:8080/",
     "height": 1000
    },
    "colab_type": "code",
    "executionInfo": {
     "elapsed": 3128,
     "status": "ok",
     "timestamp": 1577212617865,
     "user": {
      "displayName": "Chandravesh Chaudhari",
      "photoUrl": "https://lh3.googleusercontent.com/a-/AAuE7mD1vVdyu9kFcoewDa0XXb66Vfvgov7-mDu1hOJ3oJY=s64",
      "userId": "09362484347045214645"
     },
     "user_tz": -330
    },
    "id": "tpr2oyUXO8ec",
    "outputId": "612b7fb7-ed7a-430d-f5ba-595a6298c38b"
   },
   "outputs": [
    {
     "name": "stdout",
     "output_type": "stream",
     "text": [
      "month:  1\n",
      "membership:  1050.0\n",
      "principal:  1000\n",
      "Updated principal:  1050.0\n",
      "Final Principal of all customers:  1102500.0\n",
      "Compound Interest of this month:  13673.773487457773\n",
      "\n",
      "month:  2\n",
      "membership:  1102.5\n",
      "principal:  1050.0\n",
      "Updated principal:  1102.5\n",
      "Final Principal of all customers:  1215506.25\n",
      "Compound Interest of this month:  15075.335269922158\n",
      "\n",
      "month:  3\n",
      "membership:  1157.625\n",
      "principal:  1102.5\n",
      "Updated principal:  1157.625\n",
      "Final Principal of all customers:  1340095.640625\n",
      "Compound Interest of this month:  16620.5571350893\n",
      "\n",
      "month:  4\n",
      "membership:  1215.50625\n",
      "principal:  1157.625\n",
      "Updated principal:  1215.50625\n",
      "Final Principal of all customers:  1477455.4437890623\n",
      "Compound Interest of this month:  18324.164241435938\n",
      "\n",
      "month:  5\n",
      "membership:  1276.2815624999998\n",
      "principal:  1215.50625\n",
      "Updated principal:  1276.2815624999998\n",
      "Final Principal of all customers:  1628894.626777441\n",
      "Compound Interest of this month:  20202.39107618318\n",
      "\n",
      "month:  6\n",
      "membership:  1340.0956406249998\n",
      "principal:  1276.2815624999998\n",
      "Updated principal:  1340.0956406249998\n",
      "Final Principal of all customers:  1795856.3260221286\n",
      "Compound Interest of this month:  22273.136161491973\n",
      "\n",
      "month:  7\n",
      "membership:  1407.1004226562497\n",
      "principal:  1340.0956406249998\n",
      "Updated principal:  1407.1004226562497\n",
      "Final Principal of all customers:  1979931.5994393968\n",
      "Compound Interest of this month:  24556.132618044736\n",
      "\n",
      "month:  8\n",
      "membership:  1477.4554437890622\n",
      "principal:  1407.1004226562497\n",
      "Updated principal:  1477.4554437890622\n",
      "Final Principal of all customers:  2182874.588381935\n",
      "Compound Interest of this month:  27073.136211394332\n",
      "\n",
      "month:  9\n",
      "membership:  1551.3282159785153\n",
      "principal:  1477.4554437890622\n",
      "Updated principal:  1551.3282159785153\n",
      "Final Principal of all customers:  2406619.2336910833\n",
      "Compound Interest of this month:  29848.132673062384\n",
      "\n",
      "month:  10\n",
      "membership:  1628.894626777441\n",
      "principal:  1551.3282159785153\n",
      "Updated principal:  1628.894626777441\n",
      "Final Principal of all customers:  2653297.7051444193\n",
      "Compound Interest of this month:  32907.56627205107\n",
      "\n",
      "month:  11\n",
      "membership:  1710.3393581163132\n",
      "principal:  1628.894626777441\n",
      "Updated principal:  1710.3393581163132\n",
      "Final Principal of all customers:  2925260.719921722\n",
      "Compound Interest of this month:  36280.591814936604\n",
      "\n",
      "month:  12\n",
      "membership:  1795.8563260221288\n",
      "principal:  1710.3393581163132\n",
      "Updated principal:  1795.8563260221288\n",
      "Final Principal of all customers:  3225099.9437136985\n",
      "Compound Interest of this month:  39999.35247596726\n",
      "\n",
      "Total Interest in final month is:  39999.35247596726\n"
     ]
    }
   ],
   "source": [
    "CompoundInterest2nd(12,1000,1000)"
   ]
  },
  {
   "cell_type": "code",
   "execution_count": 33,
   "metadata": {
    "colab": {
     "base_uri": "https://localhost:8080/",
     "height": 34
    },
    "colab_type": "code",
    "executionInfo": {
     "elapsed": 3112,
     "status": "ok",
     "timestamp": 1577212617867,
     "user": {
      "displayName": "Chandravesh Chaudhari",
      "photoUrl": "https://lh3.googleusercontent.com/a-/AAuE7mD1vVdyu9kFcoewDa0XXb66Vfvgov7-mDu1hOJ3oJY=s64",
      "userId": "09362484347045214645"
     },
     "user_tz": -330
    },
    "id": "2f3YuM90Ab4g",
    "outputId": "4eb7fdc7-d238-45a6-b403-89d8033a0ea0"
   },
   "outputs": [
    {
     "data": {
      "text/plain": [
       "300.0"
      ]
     },
     "execution_count": 33,
     "metadata": {
      "tags": []
     },
     "output_type": "execute_result"
    }
   ],
   "source": [
    "SimpleInterest(1000,15,2)"
   ]
  },
  {
   "cell_type": "code",
   "execution_count": 34,
   "metadata": {
    "colab": {
     "base_uri": "https://localhost:8080/",
     "height": 34
    },
    "colab_type": "code",
    "executionInfo": {
     "elapsed": 3095,
     "status": "ok",
     "timestamp": 1577212617868,
     "user": {
      "displayName": "Chandravesh Chaudhari",
      "photoUrl": "https://lh3.googleusercontent.com/a-/AAuE7mD1vVdyu9kFcoewDa0XXb66Vfvgov7-mDu1hOJ3oJY=s64",
      "userId": "09362484347045214645"
     },
     "user_tz": -330
    },
    "id": "xrha94DU_143",
    "outputId": "bd79c89d-f3a6-4bd2-e977-1ce33dda256a"
   },
   "outputs": [
    {
     "data": {
      "text/plain": [
       "322.4999999999998"
      ]
     },
     "execution_count": 34,
     "metadata": {
      "tags": []
     },
     "output_type": "execute_result"
    }
   ],
   "source": [
    "CompoundInterest(1000,15,2)"
   ]
  },
  {
   "cell_type": "markdown",
   "metadata": {
    "colab_type": "text",
    "id": "a7x42C3D6MR3"
   },
   "source": [
    "### Questions"
   ]
  },
  {
   "cell_type": "markdown",
   "metadata": {
    "colab_type": "text",
    "id": "lY9K0HgA6MR5"
   },
   "source": [
    "Q1: How much profit % is generated in 1 year?"
   ]
  },
  {
   "cell_type": "code",
   "execution_count": 35,
   "metadata": {
    "colab": {
     "base_uri": "https://localhost:8080/",
     "height": 170
    },
    "colab_type": "code",
    "executionInfo": {
     "elapsed": 3081,
     "status": "ok",
     "timestamp": 1577212617870,
     "user": {
      "displayName": "Chandravesh Chaudhari",
      "photoUrl": "https://lh3.googleusercontent.com/a-/AAuE7mD1vVdyu9kFcoewDa0XXb66Vfvgov7-mDu1hOJ3oJY=s64",
      "userId": "09362484347045214645"
     },
     "user_tz": -330
    },
    "id": "TYSIHteA6MR7",
    "outputId": "b4f6759d-32bf-4362-863a-f62a8092f1cb"
   },
   "outputs": [
    {
     "name": "stdout",
     "output_type": "stream",
     "text": [
      "One day Interest:  0.041666666666666664\n",
      "one customer of second type owe: 12.575815353266876 \n",
      "all second type of customers interest:  3143.953838316719\n",
      "one customer of third type owe: 18.922905981914937\n",
      "all third type of customers interest:  4730.726495478734\n",
      "one customer of fourth type owe: 25.309781838333265\n",
      "all fourth type of customers interest:  6327.445459583316\n",
      "\n",
      "Total interest received by company:                 14202.12579337877\n"
     ]
    }
   ],
   "source": [
    "dailyCompoundInterest = dailyInterest(month_interest)\n",
    "print(\"One day Interest: \",dailyCompoundInterest)\n",
    "\n",
    "cus2 = CompoundInterest(1000, dailyCompoundInterest, 30)\n",
    "print(\"one customer of second type owe:\",cus2,\"\")\n",
    "cus2 = 250*cus2\n",
    "print(\"all second type of customers interest: \",cus2)\n",
    "\n",
    "cus3 = CompoundInterest(1000, dailyCompoundInterest, 45)\n",
    "print(\"one customer of third type owe:\",cus3)\n",
    "cus3 = 250*cus3\n",
    "print(\"all third type of customers interest: \",cus3)\n",
    "\n",
    "cus4 = CompoundInterest(1000, dailyCompoundInterest, 60)\n",
    "print(\"one customer of fourth type owe:\",cus4)\n",
    "cus4 = 250*cus4\n",
    "print(\"all fourth type of customers interest: \",cus4)\n",
    "\n",
    "TotalInterest =cus2 + cus3+ cus4\n",
    "print()\n",
    "print(\"Total interest received by company:                \",TotalInterest)"
   ]
  },
  {
   "cell_type": "code",
   "execution_count": 36,
   "metadata": {
    "colab": {
     "base_uri": "https://localhost:8080/",
     "height": 51
    },
    "colab_type": "code",
    "executionInfo": {
     "elapsed": 3065,
     "status": "ok",
     "timestamp": 1577212617873,
     "user": {
      "displayName": "Chandravesh Chaudhari",
      "photoUrl": "https://lh3.googleusercontent.com/a-/AAuE7mD1vVdyu9kFcoewDa0XXb66Vfvgov7-mDu1hOJ3oJY=s64",
      "userId": "09362484347045214645"
     },
     "user_tz": -330
    },
    "id": "1n02-FmUEoyF",
    "outputId": "897fe789-c147-48c5-880d-3ea8b7e78af8"
   },
   "outputs": [
    {
     "name": "stdout",
     "output_type": "stream",
     "text": [
      "39137.12579337877\n",
      "The profit % is generated in 1 year is:  3.9137125793378775 %\n"
     ]
    }
   ],
   "source": [
    "OperatingCost = 25*1000  \n",
    "Costofcapital = CompoundInterest(1000,6.5,1)  \n",
    "profit = TotalInterest + OperatingCost - Costofcapital \n",
    "print(profit) \n",
    "profitPercentage = profit/1000000 \n",
    "print(\"The profit % is generated in 1 year is: \",profitPercentage*100,\"%\")  "
   ]
  },
  {
   "cell_type": "markdown",
   "metadata": {
    "colab_type": "text",
    "id": "de-EAJYh8Z59"
   },
   "source": [
    "Q2: The 3% loss rate can either mean either 3% of the outstanding balance defaults or 3% of the borrowers default on their entire balance. If the average balance is increased to $2000, what happens to the loss?"
   ]
  },
  {
   "cell_type": "code",
   "execution_count": 37,
   "metadata": {
    "colab": {
     "base_uri": "https://localhost:8080/",
     "height": 51
    },
    "colab_type": "code",
    "executionInfo": {
     "elapsed": 3049,
     "status": "ok",
     "timestamp": 1577212617875,
     "user": {
      "displayName": "Chandravesh Chaudhari",
      "photoUrl": "https://lh3.googleusercontent.com/a-/AAuE7mD1vVdyu9kFcoewDa0XXb66Vfvgov7-mDu1hOJ3oJY=s64",
      "userId": "09362484347045214645"
     },
     "user_tz": -330
    },
    "id": "vA2VXfXiHOnE",
    "outputId": "1f01fcd5-2bb9-4d96-9d90-edc88299dd25"
   },
   "outputs": [
    {
     "name": "stdout",
     "output_type": "stream",
     "text": [
      "60000.0\n",
      "852.1275476027262\n"
     ]
    }
   ],
   "source": [
    "# 3% of the borrowers default on their entire balance\n",
    "print(1000*2000*3/100)\n",
    "# 3% of the outstanding balance\n",
    "print(2*TotalInterest*3/100)"
   ]
  },
  {
   "cell_type": "markdown",
   "metadata": {
    "colab_type": "text",
    "id": "g2iNkVto8Z6P"
   },
   "source": [
    "Q4: The group company has now become unhappy with the credit card provider. it wants to start its own credit card. But for that, it will need to purchase the customers from the current credit card company. If the affilated group offered Rs 20 per account to purchase all the customers from the credit card company, what would there profit be? (assume that we are only talking about 1 year)"
   ]
  },
  {
   "cell_type": "code",
   "execution_count": 38,
   "metadata": {
    "colab": {
     "base_uri": "https://localhost:8080/",
     "height": 51
    },
    "colab_type": "code",
    "executionInfo": {
     "elapsed": 3033,
     "status": "ok",
     "timestamp": 1577212617879,
     "user": {
      "displayName": "Chandravesh Chaudhari",
      "photoUrl": "https://lh3.googleusercontent.com/a-/AAuE7mD1vVdyu9kFcoewDa0XXb66Vfvgov7-mDu1hOJ3oJY=s64",
      "userId": "09362484347045214645"
     },
     "user_tz": -330
    },
    "id": "7OdHQc8iHqJk",
    "outputId": "05ee1788-7b1a-4b45-9821-38c25522322b"
   },
   "outputs": [
    {
     "name": "stdout",
     "output_type": "stream",
     "text": [
      "Profit by Credit card Provider :49137.12579337877\n",
      "Profit by Group Company :19202.12579337877\n"
     ]
    }
   ],
   "source": [
    "'''\n",
    "membership fee is Rs 20 per card every year = 20000 total and its been paid in the begining. so group company will not ask for it again.\n",
    "Rs 25 operating cost per card\n",
    "average card balance is Rs 1000\n",
    "Rs 10 affiliation fee per card = 10000 total(it will not be paid by the group company after purchase of all the customers)\n",
    "6.5% cost of funds (funds will be of group company so no external cost of funds)\n",
    "\n",
    "affilated group offered Rs 20 per account = 20*1000 = -20000\n",
    "25 operating cost per card = 25*1000 = 25000\n",
    "average card balance = 1000*1000 = 1000000\n",
    "'''\n",
    "affiliationFee = 10000\n",
    "membershipFee = 20000 # Exclude the membership fee\n",
    "\n",
    "purchaseCustomers = 20*1000\n",
    "ProfitbyCreditcardProvider = TotalInterest + OperatingCost + affiliationFee  - Costofcapital\n",
    "print(\"Profit by Credit card Provider :{}\".format(ProfitbyCreditcardProvider))\n",
    "\n",
    "ProfitbygroupCompany = TotalInterest + OperatingCost - purchaseCustomers\n",
    "print(\"Profit by Group Company :{}\".format(ProfitbygroupCompany))"
   ]
  },
  {
   "cell_type": "markdown",
   "metadata": {
    "colab_type": "text",
    "id": "w1-mWH958Z6R"
   },
   "source": [
    "Q5: What numbers can the financial institution change to convince the affiliated group not to want to purchase, while still not going into a loss? Give a range of what the new numbers are (min and max)."
   ]
  },
  {
   "cell_type": "code",
   "execution_count": 39,
   "metadata": {
    "colab": {
     "base_uri": "https://localhost:8080/",
     "height": 51
    },
    "colab_type": "code",
    "executionInfo": {
     "elapsed": 3020,
     "status": "ok",
     "timestamp": 1577212617881,
     "user": {
      "displayName": "Chandravesh Chaudhari",
      "photoUrl": "https://lh3.googleusercontent.com/a-/AAuE7mD1vVdyu9kFcoewDa0XXb66Vfvgov7-mDu1hOJ3oJY=s64",
      "userId": "09362484347045214645"
     },
     "user_tz": -330
    },
    "id": "Wwz_GQMRtFIm",
    "outputId": "72fcc220-0487-408c-96ff-01da8950a58b"
   },
   "outputs": [
    {
     "name": "stdout",
     "output_type": "stream",
     "text": [
      "Profit by Credit card Provider :39137.12579337877\n",
      "difference between profits : 19935.0\n"
     ]
    }
   ],
   "source": [
    "ProfitbyCreditcardProvider = TotalInterest + OperatingCost - Costofcapital\n",
    "print(\"Profit by Credit card Provider :{}\".format(ProfitbyCreditcardProvider))\n",
    "# credit card provider can offer group company no affiliation fee. and also give them more cost of capital according to new deal.\n",
    "print (\"difference between profits :\",(ProfitbyCreditcardProvider-ProfitbygroupCompany))"
   ]
  },
  {
   "cell_type": "markdown",
   "metadata": {
    "colab_type": "text",
    "id": "F2CNKTe5tqje"
   },
   "source": [
    "Ques 3,6,7 are already answered in scenario 1 and there is not big of difference in simple interest and compound interest defaults."
   ]
  },
  {
   "cell_type": "markdown",
   "metadata": {
    "colab_type": "text",
    "id": "V1jjhCcc6MSB"
   },
   "source": [
    "## Last question\n",
    "Which information variables you will use to calculate the credit card limit and the risk associated with it for an individual customer? Also, give the reason for your choice. (Example-Bureau score)"
   ]
  },
  {
   "cell_type": "markdown",
   "metadata": {
    "colab_type": "text",
    "id": "Pxh0Q71kuT1z"
   },
   "source": [
    "Credit Score:  \n",
    " This is a score indicating a consumer’s credit risk. Such as  VantageScore 3.0 credit scores,\n",
    "which range from 300 to 850 and are used by the three credit agencies (Experian, Equifax, and\n",
    "TransUnion). A score of 700 or above is generally considered to be a good score (i.e., the borrower will\n",
    "likely receive competitive rates for credit), and consumers with scores below 550 are unlikely to be\n",
    "approved for credit.\n",
    "\n",
    "Debt-to-income (DTI) ratio in order to decide how much of a risk that the applicant is to them. The more credible the person's work history and the lower his or her debt, the more likely that the person is to receive increased funds.\n",
    "\n",
    "Payment History have huge impact on your your credit worthiness. If you have been consistent in paying your bills/loan EMIs, it suggests that you are a responsible borrower and are at a lower risk of defaulting.\n"
   ]
  }
 ],
 "metadata": {
  "colab": {
   "collapsed_sections": [
    "kq7zE5wu6MQw",
    "Fv8uNqor6MRo",
    "V1jjhCcc6MSB"
   ],
   "name": "Business Strategy & Analytics Internship.ipynb",
   "provenance": []
  },
  "kernelspec": {
   "display_name": "Python 3",
   "language": "python",
   "name": "python3"
  },
  "language_info": {
   "codemirror_mode": {
    "name": "ipython",
    "version": 3
   },
   "file_extension": ".py",
   "mimetype": "text/x-python",
   "name": "python",
   "nbconvert_exporter": "python",
   "pygments_lexer": "ipython3",
   "version": "3.7.1"
  }
 },
 "nbformat": 4,
 "nbformat_minor": 2
}
