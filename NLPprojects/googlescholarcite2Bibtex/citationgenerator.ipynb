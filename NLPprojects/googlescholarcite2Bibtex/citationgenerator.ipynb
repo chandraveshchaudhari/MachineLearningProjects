{
 "cells": [
  {
   "cell_type": "code",
   "execution_count": 2,
   "metadata": {},
   "outputs": [
    {
     "data": {
      "text/plain": [
       "22"
      ]
     },
     "execution_count": 2,
     "metadata": {},
     "output_type": "execute_result"
    }
   ],
   "source": [
    "1+21"
   ]
  },
  {
   "cell_type": "code",
   "execution_count": 3,
   "metadata": {},
   "outputs": [],
   "source": [
    "import time, random, os, csv, platform\n",
    "\n",
    "from selenium import webdriver\n",
    "from selenium.webdriver.chrome.options import Options\n",
    "from selenium.common.exceptions import TimeoutException\n",
    "from selenium.webdriver.common.keys import Keys\n",
    "from selenium.common.exceptions import NoSuchElementException\n",
    "from selenium.webdriver.support.ui import WebDriverWait\n",
    "from selenium.webdriver.common.by import By\n",
    "from selenium.webdriver.support import expected_conditions as EC\n",
    "from bs4 import BeautifulSoup\n",
    "import pandas as pd\n",
    "\n",
    "\n",
    "from webdriver_manager.chrome import ChromeDriverManager\n",
    "import re\n",
    "import yaml\n",
    "from datetime import datetime, timedelta\n",
    "\n"
   ]
  },
  {
   "cell_type": "code",
   "execution_count": 2,
   "metadata": {},
   "outputs": [
    {
     "name": "stdout",
     "output_type": "stream",
     "text": [
      "Collecting selenium\n",
      "  Using cached selenium-3.141.0-py2.py3-none-any.whl (904 kB)\n",
      "Requirement already satisfied: urllib3 in c:\\users\\ernag\\anaconda3\\lib\\site-packages (from selenium) (1.25.11)\n",
      "Installing collected packages: selenium\n",
      "Successfully installed selenium-3.141.0\n"
     ]
    }
   ],
   "source": [
    "!pip install selenium"
   ]
  },
  {
   "cell_type": "code",
   "execution_count": 72,
   "metadata": {},
   "outputs": [
    {
     "name": "stdout",
     "output_type": "stream",
     "text": [
      "Collecting pyautogui\n",
      "  Downloading PyAutoGUI-0.9.52.tar.gz (55 kB)\n",
      "Collecting pymsgbox\n",
      "  Downloading PyMsgBox-1.0.9.tar.gz (18 kB)\n",
      "  Installing build dependencies: started\n",
      "  Installing build dependencies: finished with status 'done'\n",
      "  Getting requirements to build wheel: started\n",
      "  Getting requirements to build wheel: finished with status 'done'\n",
      "    Preparing wheel metadata: started\n",
      "    Preparing wheel metadata: finished with status 'done'\n",
      "Collecting PyTweening>=1.0.1\n",
      "  Using cached PyTweening-1.0.3.zip (15 kB)\n",
      "Collecting pyscreeze>=0.1.21\n",
      "  Downloading PyScreeze-0.1.27.tar.gz (25 kB)\n",
      "  Installing build dependencies: started\n",
      "  Installing build dependencies: finished with status 'done'\n",
      "  Getting requirements to build wheel: started\n",
      "  Getting requirements to build wheel: finished with status 'done'\n",
      "    Preparing wheel metadata: started\n",
      "    Preparing wheel metadata: finished with status 'done'\n",
      "Collecting pygetwindow>=0.0.5\n",
      "  Downloading PyGetWindow-0.0.9.tar.gz (9.7 kB)\n",
      "Collecting mouseinfo\n",
      "  Using cached MouseInfo-0.1.3.tar.gz (10 kB)\n",
      "Requirement already satisfied: Pillow>=6.2.1; python_version == \"3.8\" in c:\\users\\ernag\\anaconda3\\lib\\site-packages (from pyscreeze>=0.1.21->pyautogui) (8.0.1)\n",
      "Processing c:\\users\\ernag\\appdata\\local\\pip\\cache\\wheels\\3e\\61\\83\\8fd1478e984f7378e57972f5fd9bb0dbffc349fefc9efa5bf9\\pyrect-0.1.4-py2.py3-none-any.whl\n",
      "Collecting pyperclip\n",
      "  Downloading pyperclip-1.8.2.tar.gz (20 kB)\n",
      "Building wheels for collected packages: pyautogui, pymsgbox, PyTweening, pyscreeze, pygetwindow, mouseinfo, pyperclip\n",
      "  Building wheel for pyautogui (setup.py): started\n",
      "  Building wheel for pyautogui (setup.py): finished with status 'done'\n",
      "  Created wheel for pyautogui: filename=PyAutoGUI-0.9.52-py3-none-any.whl size=35198 sha256=ed37652c4899c54e4ac5e378a5e8631274ee91f7b150b63964e36888026c563a\n",
      "  Stored in directory: c:\\users\\ernag\\appdata\\local\\pip\\cache\\wheels\\4d\\0d\\6a\\4258cb741835ea9ce7897652ae88272d3baf5cb1944c1984aa\n",
      "  Building wheel for pymsgbox (PEP 517): started\n",
      "  Building wheel for pymsgbox (PEP 517): finished with status 'done'\n",
      "  Created wheel for pymsgbox: filename=PyMsgBox-1.0.9-py3-none-any.whl size=7420 sha256=a0aa997eac8e032b577564fec0df1b75febc251292a5e769a6219ae1dcc840d6\n",
      "  Stored in directory: c:\\users\\ernag\\appdata\\local\\pip\\cache\\wheels\\91\\28\\0d\\f4eb606d38276836237d6dc2abf094241e6db5682a126e0389\n",
      "  Building wheel for PyTweening (setup.py): started\n",
      "  Building wheel for PyTweening (setup.py): finished with status 'done'\n",
      "  Created wheel for PyTweening: filename=PyTweening-1.0.3-py3-none-any.whl size=3820 sha256=7abb354b1a1e675b98fe10726a11dbf973a2ce2478fbde2d47fba6fc02b7e171\n",
      "  Stored in directory: c:\\users\\ernag\\appdata\\local\\pip\\cache\\wheels\\e7\\50\\20\\790fbd95739abfdf0348bef99d5cc0c7c2930a19a91f602ddc\n",
      "  Building wheel for pyscreeze (PEP 517): started\n",
      "  Building wheel for pyscreeze (PEP 517): finished with status 'done'\n",
      "  Created wheel for pyscreeze: filename=PyScreeze-0.1.27-py3-none-any.whl size=12864 sha256=521b85666d30fea229535858e6ff219d98f3898397d37bd67654416e94295c1e\n",
      "  Stored in directory: c:\\users\\ernag\\appdata\\local\\pip\\cache\\wheels\\f7\\91\\eb\\c0fa176c095c77460a579ef339f24a377474b041e5543d1a00\n",
      "  Building wheel for pygetwindow (setup.py): started\n",
      "  Building wheel for pygetwindow (setup.py): finished with status 'done'\n",
      "  Created wheel for pygetwindow: filename=PyGetWindow-0.0.9-py3-none-any.whl size=11084 sha256=51ef4084624a9230e25e880f092f07bb596699c04413ab31cd5ae8985f0a8c5e\n",
      "  Stored in directory: c:\\users\\ernag\\appdata\\local\\pip\\cache\\wheels\\91\\e3\\04\\184bda98ec7f7d5f0ba1f372bcf7b3ba86325151ae1dd690fe\n",
      "  Building wheel for mouseinfo (setup.py): started\n",
      "  Building wheel for mouseinfo (setup.py): finished with status 'done'\n",
      "  Created wheel for mouseinfo: filename=MouseInfo-0.1.3-py3-none-any.whl size=10910 sha256=8df0a6f54be366ed2e5c417254a1b223c95fccc87460206c1ce78202d3e6cca0\n",
      "  Stored in directory: c:\\users\\ernag\\appdata\\local\\pip\\cache\\wheels\\d1\\72\\fb\\35f403de66285df8ecca7049bcc61bfb57aba0f76d1f08f7eb\n",
      "  Building wheel for pyperclip (setup.py): started\n",
      "  Building wheel for pyperclip (setup.py): finished with status 'done'\n",
      "  Created wheel for pyperclip: filename=pyperclip-1.8.2-py3-none-any.whl size=11112 sha256=2c3cdd25f57cd1d5129f168ca1e863845dd4a7db577547d5fbd38419c0ae2496\n",
      "  Stored in directory: c:\\users\\ernag\\appdata\\local\\pip\\cache\\wheels\\7f\\1a\\65\\84ff8c386bec21fca6d220ea1f5498a0367883a78dd5ba6122\n",
      "Successfully built pyautogui pymsgbox PyTweening pyscreeze pygetwindow mouseinfo pyperclip\n",
      "Installing collected packages: pymsgbox, PyTweening, pyscreeze, pyrect, pygetwindow, pyperclip, mouseinfo, pyautogui\n",
      "Successfully installed PyTweening-1.0.3 mouseinfo-0.1.3 pyautogui-0.9.52 pygetwindow-0.0.9 pymsgbox-1.0.9 pyperclip-1.8.2 pyrect-0.1.4 pyscreeze-0.1.27\n"
     ]
    }
   ],
   "source": [
    "!pip install pyautogui"
   ]
  },
  {
   "cell_type": "code",
   "execution_count": 12,
   "metadata": {},
   "outputs": [
    {
     "name": "stdout",
     "output_type": "stream",
     "text": [
      "Collecting webdriver_manager\n",
      "  Downloading webdriver_manager-3.4.0-py2.py3-none-any.whl (16 kB)\n",
      "Collecting crayons\n",
      "  Using cached crayons-0.4.0-py2.py3-none-any.whl (4.6 kB)\n",
      "Collecting configparser\n",
      "  Downloading configparser-5.0.2-py3-none-any.whl (19 kB)\n",
      "Requirement already satisfied: requests in c:\\users\\ernag\\anaconda3\\lib\\site-packages (from webdriver_manager) (2.24.0)\n",
      "Requirement already satisfied: colorama in c:\\users\\ernag\\anaconda3\\lib\\site-packages (from crayons->webdriver_manager) (0.4.4)\n",
      "Requirement already satisfied: idna<3,>=2.5 in c:\\users\\ernag\\anaconda3\\lib\\site-packages (from requests->webdriver_manager) (2.10)\n",
      "Requirement already satisfied: certifi>=2017.4.17 in c:\\users\\ernag\\anaconda3\\lib\\site-packages (from requests->webdriver_manager) (2020.6.20)\n",
      "Requirement already satisfied: chardet<4,>=3.0.2 in c:\\users\\ernag\\anaconda3\\lib\\site-packages (from requests->webdriver_manager) (3.0.4)\n",
      "Requirement already satisfied: urllib3!=1.25.0,!=1.25.1,<1.26,>=1.21.1 in c:\\users\\ernag\\anaconda3\\lib\\site-packages (from requests->webdriver_manager) (1.25.11)\n",
      "Installing collected packages: crayons, configparser, webdriver-manager\n",
      "Successfully installed configparser-5.0.2 crayons-0.4.0 webdriver-manager-3.4.0\n"
     ]
    }
   ],
   "source": [
    "!pip install webdriver_manager"
   ]
  },
  {
   "cell_type": "code",
   "execution_count": 7,
   "metadata": {},
   "outputs": [
    {
     "data": {
      "text/plain": [
       "'C:\\\\Users\\\\ernag\\\\Desktop\\\\GitHub\\\\MachineLearningProjects\\\\NLPprojects\\\\googlescholarcite2Bibtex'"
      ]
     },
     "execution_count": 7,
     "metadata": {},
     "output_type": "execute_result"
    }
   ],
   "source": [
    "pwd"
   ]
  },
  {
   "cell_type": "code",
   "execution_count": 5,
   "metadata": {},
   "outputs": [
    {
     "name": "stdout",
     "output_type": "stream",
     "text": [
      "Using readlines()\n"
     ]
    }
   ],
   "source": [
    "\n",
    "count = 0\n",
    "print(\"Using readlines()\")\n",
    " \n",
    "with open(\"testing.txt\", encoding=\"utf8\") as fp:\n",
    "    lines = fp.readlines()\n",
    "    #print(lines)\n",
    " "
   ]
  },
  {
   "cell_type": "code",
   "execution_count": 6,
   "metadata": {},
   "outputs": [
    {
     "data": {
      "text/plain": [
       "['Kent Johnson, Kumar Gourav, Gaurav, Dwijen Rudrapal & Sanjib Debnath (2017) OCR for devanagari numerals using zonal histogram of angle, Journal of Statistics and Management Systems, 20:4, 519-534, DOI: 10.1080/09720510.2017.1395172\\n',\n",
       " 'An OCR system for the Unified Northern Alphabet (2019) Niko Partanen, Michael Rießler\\n',\n",
       " 'Andreas Humpe & Peter Macmillan (2009) Can macroeconomic variables explain long-term stock market movements? A comparison of the US and Japan, Applied Financial Economics, 19:2, 111-119, DOI: 10.1080/09603100701748956 \\n',\n",
       " 'CHANDRASHEKAR, R., Sakthivel, P., Sampath, T., & CHITTEDI, K. R. (2018). Macroeconomic variables and stock prices in emerging economies: A panel analysis. Theoretical & Applied Economics, 25(3).\\n',\n",
       " 'Pramod Kumar, N. A. I. K., & Puja, P. (2012). The impact of macroeconomic fundamentals on stock prices revisited: An evidence from Indian data.\\n',\n",
       " 'Mulenga, M. J., & Bhatia, M. (2018). Review of Accounting Variables Affecting Stock Price Movements. Amity Business Review, 19(1).\\n',\n",
       " 'Lo, K., & Lys, T. (2000). The Ohlson model: contribution to valuation theory, limitations, and empirical applications. Journal of Accounting, Auditing & Finance, 15(3), 337-367.\\n',\n",
       " 'Huang, Yuxuan, \"Machine Learning for Stock Prediction Based on Fundamental Analysis\" (2019). Electronic Thesis and Dissertation Repository. 6148. https://ir.lib.uwo.ca/etd/6148\\n',\n",
       " 'Rechenthin, Michael David. \"Machine-learning classification techniques for the analysis and prediction of high-frequency stock direction.\" PhD (Doctor of Philosophy) thesis, University of Iowa, 2014. https://doi.org/10.17077/etd.fvui75i2\\n',\n",
       " 'Kopperundevi, S. (2015). Prediction of future stock prices exploiting machine learning techniques. http://hdl.handle.net/10603/91319\\n',\n",
       " 'Cavalcante, R. C., Brasileiro, R. C., Souza, V. L., Nobrega, J. P., & Oliveira, A. L. (2016). Computational intelligence and financial markets: A survey and future directions. Expert Systems with Applications, 55, 194-211.\\n',\n",
       " 'Ha, Y. (2017). Machine learning in quantitative finance (Doctoral dissertation, University of Glasgow). http://theses.gla.ac.uk/8558/\\n',\n",
       " 'Perols, J. (2011). Financial statement fraud detection: An analysis of statistical and machine learning algorithms. Auditing: A Journal of Practice & Theory, 30(2), 19-50.\\n',\n",
       " 'Lin, W.Y., Hu, Y.H. and Tsai, C.F., Machine learning in financial crisis prediction: A survey. IEEE Transactions on Systems, Man, and Cybernetics, Part C (Applications and Reviews), 2012, 42, 421--436.\\n',\n",
       " 'Krollner, B., Vanstone, B. and Finnie, G., Financial time series forecasting with machine learning techniques: A survey. In Proceedings of the 18th European Symposium on Artificial Neural Networks, 2010\\n',\n",
       " 'Towards Explainable AI: Feature Significance and Importance for Machine Learning Models E Horel Stanford University  https://purl.stanford.edu/qv031hv7109\\n',\n",
       " 'Meng, Bo. \"Corporate finance and machine learning.\" PhD (Doctor of Philosophy) thesis, University of Iowa, 2018. https://doi.org/10.17077/etd.0zru6k7p\\n',\n",
       " 'Milosevic, N. (2016). Equity forecast: Predicting long term stock price movement using machine learning. arXiv preprint arXiv:1603.00751.\\n',\n",
       " 'Wilson, R. L. & Sharda, R., 1994. Bankruptcy prediction using neural networks. Decision support systems, 11(5), pp. 545-557.\\n',\n",
       " 'Leung, Edward and Lohre, Harald and Mischlich, David and Shea, Yifei and Stroh, Maximilian, The Promises and Pitfalls of Machine Learning for Predicting Stock Returns (October 24, 2020). Available at SSRN: https://ssrn.com/abstract=3546725 or http://dx.doi.org/10.2139/ssrn.3546725\\n',\n",
       " 'Luss, R., & d’Aspremont, A. (2015). Predicting abnormal returns from news using text classification. Quantitative Finance, 15(6), 999–1012. DOI: 10.1080/14697688.2012.672762\\n',\n",
       " 'Balázs Csanád Csáji (2001) Approximation with Artificial Neural Networks; Faculty of Sciences; Eötvös Loránd University, Hungary\\n',\n",
       " 'Pinkus, Allan (January 1999). \"Approximation theory of the MLP model in neural networks\". Acta Numerica. 8: 143–195. Bibcode:1999AcNum...8..143P. doi:10.1017/S0962492900002919\\n',\n",
       " 'Fabozzi, Frank J. and Focardi, Sergio M. and Jonas, Caroline, Equity Valuation Science, Art, or Craft? (September 24, 2018). CFA Institute Research Foundation Publications, December 2017, Volume 2017, Issue 4 , Available at SSRN: https://ssrn.com/abstract=3254580 or http://dx.doi.org/10.2139/ssrn.3254580\\n',\n",
       " 'Hornik, K. (1991). Approximation capabilities of multilayer feedforward networks. Neural networks, 4(2), 251-257.\\n',\n",
       " 'Biau, G. (2012). Analysis of a random forests model. The Journal of Machine Learning Research, 13(1), 1063-1095.\\n',\n",
       " 'Breiman, L. (2001). Random forests. Machine learning, 45(1), 5-32.\\n',\n",
       " 'Denil, M., Matheson, D. & De Freitas, N.. (2014). Narrowing the Gap: Random Forests In Theory and In Practice. Proceedings of the 31st International Conference on Machine Learning, in PMLR 32(1):665-673\\n',\n",
       " 'Hoang, D., & Wiegratz, K. Machine Learning Methods in Finance: Recent Applications and Prospects.\\n',\n",
       " 'Teodorescu, M. (2017). Machine Learning methods for strategy research. Harvard Business School Research Paper Series, (18-011).\\n',\n",
       " 'Menezes, J. F. C. G. (2016). Adidas Group: equity valuation thesis (Doctoral dissertation).\\n',\n",
       " 'Man, X., & Chan, E. P. (2021). The Best Way to Select Features? Comparing MDA, LIME, and SHAP. The Journal of Financial Data Science, 3(1), 127-139.\\n',\n",
       " 'Arroyo, J., Corea, F., Jimenez-Diaz, G., & Recio-Garcia, J. A. (2019). Assessment of machine learning performance for decision support in venture capital investments. Ieee Access, 7, 124233-124243.\\n',\n",
       " 'Marwala, L. R. (2010). Forecasting the stock market index using artificial intelligence techniques (Doctoral dissertation).\\n',\n",
       " 'Chui, M. (2017). Artificial intelligence the next digital frontier. McKinsey and Company Global Institute, 47, 3-6.\\n',\n",
       " 'Shah, D., Isah, H., & Zulkernine, F. (2019). Stock market analysis: A review and taxonomy of prediction techniques. International Journal of Financial Studies, 7(2), 26.']"
      ]
     },
     "execution_count": 6,
     "metadata": {},
     "output_type": "execute_result"
    }
   ],
   "source": [
    "lines"
   ]
  },
  {
   "cell_type": "code",
   "execution_count": 52,
   "metadata": {},
   "outputs": [],
   "source": []
  },
  {
   "cell_type": "code",
   "execution_count": null,
   "metadata": {},
   "outputs": [],
   "source": []
  },
  {
   "cell_type": "code",
   "execution_count": null,
   "metadata": {},
   "outputs": [],
   "source": []
  },
  {
   "cell_type": "code",
   "execution_count": null,
   "metadata": {},
   "outputs": [],
   "source": []
  },
  {
   "cell_type": "code",
   "execution_count": null,
   "metadata": {},
   "outputs": [],
   "source": []
  },
  {
   "cell_type": "code",
   "execution_count": null,
   "metadata": {},
   "outputs": [],
   "source": []
  },
  {
   "cell_type": "code",
   "execution_count": 7,
   "metadata": {},
   "outputs": [],
   "source": [
    "listofcites = []"
   ]
  },
  {
   "cell_type": "code",
   "execution_count": null,
   "metadata": {},
   "outputs": [],
   "source": []
  },
  {
   "cell_type": "code",
   "execution_count": 14,
   "metadata": {},
   "outputs": [],
   "source": [
    "wait = WebDriverWait(driver, 10)\n",
    "driver.get(\"https://scholar.google.com/\")"
   ]
  },
  {
   "cell_type": "code",
   "execution_count": 16,
   "metadata": {},
   "outputs": [],
   "source": [
    "searchButton = driver.find_element(By.XPATH, \"/html/body/div/div[7]/div[1]/div[2]/form/div/input\")"
   ]
  },
  {
   "cell_type": "code",
   "execution_count": 25,
   "metadata": {},
   "outputs": [],
   "source": [
    "searchButton.send_keys(\"Miciuła, I., Kadłubek, M., & Stępień, P. (2020). Modern Methods of Business Valuation—Case Study and New Concepts. Sustainability, 12(7), 2699.\")"
   ]
  },
  {
   "cell_type": "code",
   "execution_count": 26,
   "metadata": {},
   "outputs": [],
   "source": [
    "searchButtonClick = driver.find_element(By.ID, \"gs_hdr_tsb\")"
   ]
  },
  {
   "cell_type": "code",
   "execution_count": 27,
   "metadata": {},
   "outputs": [],
   "source": [
    "searchButtonClick.click()"
   ]
  },
  {
   "cell_type": "code",
   "execution_count": 28,
   "metadata": {},
   "outputs": [],
   "source": [
    "cite = driver.find_element(By.XPATH,\"/html/body/div/div[10]/div[2]/div[2]/div[2]/div/div[2]/div[3]/a[2]\")"
   ]
  },
  {
   "cell_type": "code",
   "execution_count": 29,
   "metadata": {},
   "outputs": [],
   "source": [
    "cite.click()"
   ]
  },
  {
   "cell_type": "code",
   "execution_count": 30,
   "metadata": {},
   "outputs": [],
   "source": [
    "bibtex = driver.find_element(By.XPATH,\"/html/body/div/div[4]/div/div[2]/div/div[2]/a[1]\")"
   ]
  },
  {
   "cell_type": "code",
   "execution_count": 31,
   "metadata": {},
   "outputs": [],
   "source": [
    "bibtex.click()"
   ]
  },
  {
   "cell_type": "code",
   "execution_count": 39,
   "metadata": {},
   "outputs": [],
   "source": [
    "citation = driver.find_element_by_tag_name(\"body\").text"
   ]
  },
  {
   "cell_type": "code",
   "execution_count": 40,
   "metadata": {},
   "outputs": [],
   "source": [
    "listofcites.append(citation)"
   ]
  },
  {
   "cell_type": "code",
   "execution_count": 36,
   "metadata": {},
   "outputs": [
    {
     "name": "stdout",
     "output_type": "stream",
     "text": [
      "@article{miciula2020modern,\n",
      "  title={Modern Methods of Business Valuation—Case Study and New Concepts},\n",
      "  author={Miciu{\\l}a, Ireneusz and Kad{\\l}ubek, Marta and St{\\k{e}}pie{\\'n}, Pawe{\\l}},\n",
      "  journal={Sustainability},\n",
      "  volume={12},\n",
      "  number={7},\n",
      "  pages={2699},\n",
      "  year={2020},\n",
      "  publisher={Multidisciplinary Digital Publishing Institute}\n",
      "}\n"
     ]
    }
   ],
   "source": [
    "print (driver.find_element_by_tag_name(\"body\").text)"
   ]
  },
  {
   "cell_type": "code",
   "execution_count": 41,
   "metadata": {},
   "outputs": [],
   "source": [
    "outputfile = \"\\n\".join(listofcites)"
   ]
  },
  {
   "cell_type": "code",
   "execution_count": 42,
   "metadata": {},
   "outputs": [
    {
     "data": {
      "text/plain": [
       "\"@article{miciula2020modern,\\n  title={Modern Methods of Business Valuation—Case Study and New Concepts},\\n  author={Miciu{\\\\l}a, Ireneusz and Kad{\\\\l}ubek, Marta and St{\\\\k{e}}pie{\\\\'n}, Pawe{\\\\l}},\\n  journal={Sustainability},\\n  volume={12},\\n  number={7},\\n  pages={2699},\\n  year={2020},\\n  publisher={Multidisciplinary Digital Publishing Institute}\\n}\""
      ]
     },
     "execution_count": 42,
     "metadata": {},
     "output_type": "execute_result"
    }
   ],
   "source": [
    "outputfile"
   ]
  },
  {
   "cell_type": "code",
   "execution_count": 8,
   "metadata": {},
   "outputs": [],
   "source": [
    "options = Options()\n",
    "options.add_argument(\"--start-maximized\")\n",
    "options.add_argument(\"--ignore-certificate-errors\")\n",
    "options.add_argument('--no-sandbox')\n",
    "options.add_argument(\"--disable-extensions\")\n",
    "\n",
    "    #Disable webdriver flags or you will be easily detectable\n",
    "options.add_argument(\"--disable-blink-features\")\n",
    "options.add_argument(\"--disable-blink-features=AutomationControlled\")\n"
   ]
  },
  {
   "cell_type": "code",
   "execution_count": 93,
   "metadata": {},
   "outputs": [],
   "source": [
    "def avoid_lock():\n",
    "    x, _ = pyautogui.position()\n",
    "    pyautogui.moveTo(x + 200, pyautogui.position().y, duration=1.0)\n",
    "    pyautogui.moveTo(x, pyautogui.position().y, duration=0.5)\n",
    "    pyautogui.keyDown('ctrl')\n",
    "    pyautogui.press('esc')\n",
    "    pyautogui.keyUp('ctrl')\n",
    "    time.sleep(0.5)\n",
    "    pyautogui.press('esc')"
   ]
  },
  {
   "cell_type": "code",
   "execution_count": 9,
   "metadata": {},
   "outputs": [
    {
     "name": "stderr",
     "output_type": "stream",
     "text": [
      "\n",
      "\n",
      "====== WebDriver manager ======\n",
      "Current google-chrome version is 90.0.4430\n",
      "Get LATEST driver version for 90.0.4430\n",
      "Driver [C:\\Users\\ernag\\.wdm\\drivers\\chromedriver\\win32\\90.0.4430.24\\chromedriver.exe] found in cache\n"
     ]
    }
   ],
   "source": [
    "driver = webdriver.Chrome(ChromeDriverManager().install())"
   ]
  },
  {
   "cell_type": "code",
   "execution_count": 10,
   "metadata": {},
   "outputs": [],
   "source": [
    "driver.get(\"https://scholar.google.com/\")"
   ]
  },
  {
   "cell_type": "code",
   "execution_count": 11,
   "metadata": {},
   "outputs": [],
   "source": [
    "inputfield = driver.find_element(By.XPATH, \"/html/body/div/div[7]/div[1]/div[2]/form/div/input\")"
   ]
  },
  {
   "cell_type": "code",
   "execution_count": 12,
   "metadata": {},
   "outputs": [],
   "source": [
    "i = lines.pop()"
   ]
  },
  {
   "cell_type": "code",
   "execution_count": 13,
   "metadata": {},
   "outputs": [],
   "source": [
    "inputfield.send_keys(str(i))"
   ]
  },
  {
   "cell_type": "code",
   "execution_count": 14,
   "metadata": {},
   "outputs": [],
   "source": [
    "searchButtonClick = driver.find_element(By.ID, \"gs_hdr_tsb\")"
   ]
  },
  {
   "cell_type": "code",
   "execution_count": 15,
   "metadata": {},
   "outputs": [],
   "source": [
    "searchButtonClick.click()"
   ]
  },
  {
   "cell_type": "code",
   "execution_count": 16,
   "metadata": {},
   "outputs": [],
   "source": [
    "cite = driver.find_element(By.XPATH,\"/html/body/div/div[10]/div[2]/div[2]/div[2]/div/div/div[3]/a[2]\")\n"
   ]
  },
  {
   "cell_type": "code",
   "execution_count": 17,
   "metadata": {},
   "outputs": [],
   "source": [
    "cite.click()"
   ]
  },
  {
   "cell_type": "code",
   "execution_count": 18,
   "metadata": {},
   "outputs": [],
   "source": [
    "bibtex = driver.find_element(By.XPATH,\"/html/body/div/div[4]/div/div[2]/div/div[2]/a[1]\")"
   ]
  },
  {
   "cell_type": "code",
   "execution_count": 19,
   "metadata": {},
   "outputs": [],
   "source": [
    "bibtex.click()"
   ]
  },
  {
   "cell_type": "code",
   "execution_count": 20,
   "metadata": {},
   "outputs": [],
   "source": [
    "citation = driver.find_element_by_tag_name(\"body\").text"
   ]
  },
  {
   "cell_type": "code",
   "execution_count": 21,
   "metadata": {},
   "outputs": [],
   "source": [
    "listofcites.append(citation)"
   ]
  },
  {
   "cell_type": "code",
   "execution_count": null,
   "metadata": {},
   "outputs": [],
   "source": []
  },
  {
   "cell_type": "code",
   "execution_count": 20,
   "metadata": {},
   "outputs": [
    {
     "data": {
      "text/plain": [
       "'Nti, I. K., Adekoya, A. F., & Weyori, B. A. (2019). A systematic review of fundamental and technical analysis of stock market predictions. Artificial Intelligence Review, 1-51.\\n'"
      ]
     },
     "execution_count": 20,
     "metadata": {},
     "output_type": "execute_result"
    }
   ],
   "source": [
    "i"
   ]
  },
  {
   "cell_type": "code",
   "execution_count": 409,
   "metadata": {},
   "outputs": [
    {
     "data": {
      "text/plain": [
       "'Sheng Tan, K., & Logeswaran, R. (2018). Application of machine learning in stock trading: a review. International Journal of Engineering & Technology, 7(2.33), 695-702. doi:http://dx.doi.org/10.14419/ijet.v7i2.33.15479\\n'"
      ]
     },
     "execution_count": 409,
     "metadata": {},
     "output_type": "execute_result"
    }
   ],
   "source": [
    "i"
   ]
  },
  {
   "cell_type": "code",
   "execution_count": null,
   "metadata": {},
   "outputs": [],
   "source": []
  },
  {
   "cell_type": "code",
   "execution_count": null,
   "metadata": {},
   "outputs": [],
   "source": []
  },
  {
   "cell_type": "code",
   "execution_count": 58,
   "metadata": {},
   "outputs": [],
   "source": [
    "import random"
   ]
  },
  {
   "cell_type": "code",
   "execution_count": 94,
   "metadata": {},
   "outputs": [
    {
     "name": "stderr",
     "output_type": "stream",
     "text": [
      "\n",
      "\n",
      "====== WebDriver manager ======\n",
      "Current google-chrome version is 90.0.4430\n",
      "Get LATEST driver version for 90.0.4430\n",
      "Driver [C:\\Users\\ernag\\.wdm\\drivers\\chromedriver\\win32\\90.0.4430.24\\chromedriver.exe] found in cache\n"
     ]
    }
   ],
   "source": [
    "driver = webdriver.Chrome(ChromeDriverManager().install())"
   ]
  },
  {
   "cell_type": "code",
   "execution_count": 63,
   "metadata": {},
   "outputs": [],
   "source": [
    "wait = WebDriverWait(driver, 10)"
   ]
  },
  {
   "cell_type": "code",
   "execution_count": 22,
   "metadata": {},
   "outputs": [],
   "source": [
    "def get_citations(textcitelist):\n",
    "    for i in lines:\n",
    "        try:\n",
    "            driver.get(\"https://scholar.google.com/\")\n",
    "            \n",
    "            inputfield = driver.find_element(By.XPATH, \"/html/body/div/div[7]/div[1]/div[2]/form/div/input\")\n",
    "            print(\"found inputfield\")\n",
    "            \n",
    "            \n",
    "            inputfield.send_keys(str(i))\n",
    "            \n",
    "            searchButtonClick = driver.find_element(By.ID, \"gs_hdr_tsb\")\n",
    "            print('found search button to click')\n",
    "            searchButtonClick.click()\n",
    "            time.sleep(5)\n",
    "            cite = driver.find_element(By.XPATH,\"/html/body/div/div[10]/div[2]/div[2]/div[2]/div/div[2]/div[3]/a[2]\")\n",
    "            \n",
    "            cite.click()\n",
    "            print(\"sleeping\")\n",
    "            time.sleep(5)\n",
    "            bibtex = driver.find_element(By.XPATH,\"/html/body/div/div[4]/div/div[2]/div/div[2]/a[1]\")\n",
    "            \n",
    "            print(\"clicking the bibtex button\")\n",
    "            bibtex.click()\n",
    "            \n",
    "            \n",
    "            citation = driver.find_element_by_tag_name(\"body\").text\n",
    "            listofcites.append(citation)\n",
    "            \n",
    "        except:\n",
    "            pass"
   ]
  },
  {
   "cell_type": "code",
   "execution_count": 23,
   "metadata": {},
   "outputs": [
    {
     "name": "stdout",
     "output_type": "stream",
     "text": [
      "found inputfield\n",
      "found search button to click\n",
      "found inputfield\n",
      "found search button to click\n",
      "found inputfield\n",
      "found search button to click\n",
      "sleeping\n",
      "clicking the bibtex button\n",
      "found inputfield\n",
      "found search button to click\n",
      "sleeping\n",
      "clicking the bibtex button\n",
      "found inputfield\n",
      "found search button to click\n",
      "sleeping\n",
      "clicking the bibtex button\n",
      "found inputfield\n",
      "found search button to click\n",
      "found inputfield\n",
      "found search button to click\n",
      "sleeping\n",
      "clicking the bibtex button\n",
      "found inputfield\n",
      "found search button to click\n",
      "sleeping\n",
      "clicking the bibtex button\n",
      "found inputfield\n",
      "found search button to click\n",
      "sleeping\n",
      "clicking the bibtex button\n",
      "found inputfield\n",
      "found search button to click\n",
      "found inputfield\n",
      "found search button to click\n",
      "found inputfield\n",
      "found search button to click\n",
      "sleeping\n",
      "clicking the bibtex button\n",
      "found inputfield\n",
      "found search button to click\n",
      "sleeping\n",
      "clicking the bibtex button\n",
      "found inputfield\n",
      "found search button to click\n",
      "sleeping\n",
      "clicking the bibtex button\n",
      "found inputfield\n",
      "found search button to click\n",
      "sleeping\n",
      "clicking the bibtex button\n",
      "found inputfield\n",
      "found search button to click\n",
      "found inputfield\n",
      "found search button to click\n",
      "sleeping\n",
      "clicking the bibtex button\n",
      "found inputfield\n",
      "found search button to click\n",
      "sleeping\n",
      "clicking the bibtex button\n",
      "found inputfield\n",
      "found search button to click\n",
      "found inputfield\n",
      "found search button to click\n",
      "found inputfield\n",
      "found search button to click\n",
      "sleeping\n",
      "clicking the bibtex button\n",
      "found inputfield\n",
      "found search button to click\n",
      "sleeping\n",
      "clicking the bibtex button\n",
      "found inputfield\n",
      "found search button to click\n",
      "sleeping\n",
      "clicking the bibtex button\n",
      "found inputfield\n",
      "found search button to click\n",
      "found inputfield\n",
      "found search button to click\n",
      "sleeping\n",
      "clicking the bibtex button\n",
      "found inputfield\n",
      "found search button to click\n",
      "sleeping\n",
      "clicking the bibtex button\n",
      "found inputfield\n",
      "found search button to click\n",
      "sleeping\n",
      "clicking the bibtex button\n",
      "found inputfield\n",
      "found search button to click\n",
      "sleeping\n",
      "clicking the bibtex button\n",
      "found inputfield\n",
      "found search button to click\n",
      "sleeping\n",
      "clicking the bibtex button\n",
      "found inputfield\n",
      "found search button to click\n",
      "sleeping\n",
      "clicking the bibtex button\n",
      "found inputfield\n",
      "found search button to click\n",
      "sleeping\n",
      "clicking the bibtex button\n",
      "found inputfield\n",
      "found search button to click\n",
      "found inputfield\n",
      "found search button to click\n",
      "sleeping\n",
      "clicking the bibtex button\n",
      "found inputfield\n",
      "found search button to click\n",
      "sleeping\n",
      "clicking the bibtex button\n",
      "found inputfield\n",
      "found search button to click\n",
      "sleeping\n",
      "clicking the bibtex button\n"
     ]
    }
   ],
   "source": [
    "get_citations(lines)"
   ]
  },
  {
   "cell_type": "code",
   "execution_count": 391,
   "metadata": {},
   "outputs": [
    {
     "ename": "NameError",
     "evalue": "name 'out' is not defined",
     "output_type": "error",
     "traceback": [
      "\u001b[1;31m---------------------------------------------------------------------------\u001b[0m",
      "\u001b[1;31mNameError\u001b[0m                                 Traceback (most recent call last)",
      "\u001b[1;32m<ipython-input-391-b70c08bc6bc0>\u001b[0m in \u001b[0;36m<module>\u001b[1;34m\u001b[0m\n\u001b[0;32m      1\u001b[0m \u001b[1;32mwith\u001b[0m \u001b[0mopen\u001b[0m\u001b[1;33m(\u001b[0m\u001b[1;34m\"output2.txt\"\u001b[0m\u001b[1;33m,\u001b[0m \u001b[0mencoding\u001b[0m\u001b[1;33m=\u001b[0m\u001b[1;34m\"utf8\"\u001b[0m\u001b[1;33m)\u001b[0m \u001b[1;32mas\u001b[0m \u001b[0mfp\u001b[0m\u001b[1;33m:\u001b[0m\u001b[1;33m\u001b[0m\u001b[1;33m\u001b[0m\u001b[0m\n\u001b[1;32m----> 2\u001b[1;33m     \u001b[0mout\u001b[0m\u001b[1;33m.\u001b[0m\u001b[0mwritelines\u001b[0m\u001b[1;33m(\u001b[0m\u001b[0mlistofcites\u001b[0m\u001b[1;33m)\u001b[0m\u001b[1;33m\u001b[0m\u001b[1;33m\u001b[0m\u001b[0m\n\u001b[0m\u001b[0;32m      3\u001b[0m     \u001b[1;31m#print(lines)\u001b[0m\u001b[1;33m\u001b[0m\u001b[1;33m\u001b[0m\u001b[1;33m\u001b[0m\u001b[0m\n\u001b[0;32m      4\u001b[0m \u001b[1;33m\u001b[0m\u001b[0m\n\u001b[0;32m      5\u001b[0m \u001b[1;31m# Writing a string to file\u001b[0m\u001b[1;33m\u001b[0m\u001b[1;33m\u001b[0m\u001b[1;33m\u001b[0m\u001b[0m\n",
      "\u001b[1;31mNameError\u001b[0m: name 'out' is not defined"
     ]
    }
   ],
   "source": [
    "with open(\"output2.txt\", encoding=\"utf8\") as fp:\n",
    "    fp.writelines(listofcites)\n",
    "    #print(lines)\n",
    " \n",
    "# Writing a string to file\n",
    "\n",
    "  \n",
    "# Closing file\n",
    "file2.close()\n"
   ]
  },
  {
   "cell_type": "code",
   "execution_count": 24,
   "metadata": {},
   "outputs": [
    {
     "name": "stdout",
     "output_type": "stream",
     "text": [
      "@article{shah2019stock,\n",
      "  title={Stock market analysis: A review and taxonomy of prediction techniques},\n",
      "  author={Shah, Dev and Isah, Haruna and Zulkernine, Farhana},\n",
      "  journal={International Journal of Financial Studies},\n",
      "  volume={7},\n",
      "  number={2},\n",
      "  pages={26},\n",
      "  year={2019},\n",
      "  publisher={Multidisciplinary Digital Publishing Institute}\n",
      "}\n",
      "@article{humpe2009can,\n",
      "  title={Can macroeconomic variables explain long-term stock market movements? A comparison of the US and Japan},\n",
      "  author={Humpe, Andreas and Macmillan, Peter},\n",
      "  journal={Applied financial economics},\n",
      "  volume={19},\n",
      "  number={2},\n",
      "  pages={111--119},\n",
      "  year={2009},\n",
      "  publisher={Taylor \\& Francis}\n",
      "}\n",
      "@article{chandrashekar2018macroeconomic,\n",
      "  title={Macroeconomic variables and stock prices in emerging economies: A panel analysis.},\n",
      "  author={CHANDRASHEKAR, Raghutla and Sakthivel, P and Sampath, T and CHITTEDI, Krishna Reddy},\n",
      "  journal={Theoretical \\& Applied Economics},\n",
      "  volume={25},\n",
      "  number={3},\n",
      "  year={2018}\n",
      "}\n",
      "@article{pramod2012impact,\n",
      "  title={The impact of macroeconomic fundamentals on stock prices revisited: An evidence from Indian data},\n",
      "  author={Pramod Kumar, NAIK and Puja, Padhi},\n",
      "  year={2012}\n",
      "}\n",
      "@article{lo2000ohlson,\n",
      "  title={The Ohlson model: contribution to valuation theory, limitations, and empirical applications},\n",
      "  author={Lo, Kin and Lys, Thomas},\n",
      "  journal={Journal of Accounting, Auditing \\& Finance},\n",
      "  volume={15},\n",
      "  number={3},\n",
      "  pages={337--367},\n",
      "  year={2000},\n",
      "  publisher={SAGE Publications Sage CA: Los Angeles, CA}\n",
      "}\n",
      "@article{huang2019machine,\n",
      "  title={Machine learning for stock prediction based on fundamental analysis},\n",
      "  author={Huang, Yuxuan},\n",
      "  year={2019}\n",
      "}\n",
      "@article{rechenthin2014machine,\n",
      "  title={Machine-learning classification techniques for the analysis and prediction of high-frequency stock direction},\n",
      "  author={Rechenthin, Michael David},\n",
      "  year={2014},\n",
      "  publisher={University of Iowa}\n",
      "}\n",
      "@phdthesis{ha2017machine,\n",
      "  title={Machine learning in quantitative finance},\n",
      "  author={Ha, Youngmin},\n",
      "  year={2017},\n",
      "  school={University of Glasgow}\n",
      "}\n",
      "@article{perols2011financial,\n",
      "  title={Financial statement fraud detection: An analysis of statistical and machine learning algorithms},\n",
      "  author={Perols, Johan},\n",
      "  journal={Auditing: A Journal of Practice \\& Theory},\n",
      "  volume={30},\n",
      "  number={2},\n",
      "  pages={19--50},\n",
      "  year={2011},\n",
      "  publisher={American Accounting Association}\n",
      "}\n",
      "@article{lin2011machine,\n",
      "  title={Machine learning in financial crisis prediction: a survey},\n",
      "  author={Lin, Wei-Yang and Hu, Ya-Han and Tsai, Chih-Fong},\n",
      "  journal={IEEE Transactions on Systems, Man, and Cybernetics, Part C (Applications and Reviews)},\n",
      "  volume={42},\n",
      "  number={4},\n",
      "  pages={421--436},\n",
      "  year={2011},\n",
      "  publisher={IEEE}\n",
      "}\n",
      "@inproceedings{krollner2010financial,\n",
      "  title={Financial time series forecasting with machine learning techniques: a survey.},\n",
      "  author={Krollner, Bjoern and Vanstone, Bruce J and Finnie, Gavin R},\n",
      "  booktitle={ESANN},\n",
      "  year={2010}\n",
      "}\n",
      "@article{meng2018corporate,\n",
      "  title={Corporate finance and machine learning},\n",
      "  author={Meng, Bo},\n",
      "  year={2018},\n",
      "  publisher={University of Iowa}\n",
      "}\n",
      "@article{milosevic2016equity,\n",
      "  title={Equity forecast: Predicting long term stock price movement using machine learning},\n",
      "  author={Milosevic, Nikola},\n",
      "  journal={arXiv preprint arXiv:1603.00751},\n",
      "  year={2016}\n",
      "}\n",
      "@article{luss2015predicting,\n",
      "  title={Predicting abnormal returns from news using text classification},\n",
      "  author={Luss, Ronny and d’Aspremont, Alexandre},\n",
      "  journal={Quantitative Finance},\n",
      "  volume={15},\n",
      "  number={6},\n",
      "  pages={999--1012},\n",
      "  year={2015},\n",
      "  publisher={Taylor \\& Francis}\n",
      "}\n",
      "@article{csaji2001approximation,\n",
      "  title={Approximation with artificial neural networks},\n",
      "  author={Cs{\\'a}ji, Bal{\\'a}zs Csan{\\'a}d and others},\n",
      "  journal={Faculty of Sciences, Etvs Lornd University, Hungary},\n",
      "  volume={24},\n",
      "  number={48},\n",
      "  pages={7},\n",
      "  year={2001},\n",
      "  publisher={Citeseer}\n",
      "}\n",
      "@article{platen1999introduction,\n",
      "  title={An introduction to numerical methods for stochastic differential equations},\n",
      "  author={Platen, Eckhard},\n",
      "  journal={Acta numerica},\n",
      "  volume={8},\n",
      "  number={5},\n",
      "  pages={197--246},\n",
      "  year={1999},\n",
      "  publisher={Cambridge, England; New York: Cambridge University Press, c1992-}\n",
      "}\n",
      "@article{hornik1991approximation,\n",
      "  title={Approximation capabilities of multilayer feedforward networks},\n",
      "  author={Hornik, Kurt},\n",
      "  journal={Neural networks},\n",
      "  volume={4},\n",
      "  number={2},\n",
      "  pages={251--257},\n",
      "  year={1991},\n",
      "  publisher={Elsevier}\n",
      "}\n",
      "@article{biau2012analysis,\n",
      "  title={Analysis of a random forests model},\n",
      "  author={Biau, G{\\'e}rard},\n",
      "  journal={The Journal of Machine Learning Research},\n",
      "  volume={13},\n",
      "  number={1},\n",
      "  pages={1063--1095},\n",
      "  year={2012},\n",
      "  publisher={JMLR. org}\n",
      "}\n",
      "@article{breiman2001random,\n",
      "  title={Random forests},\n",
      "  author={Breiman, Leo},\n",
      "  journal={Machine learning},\n",
      "  volume={45},\n",
      "  number={1},\n",
      "  pages={5--32},\n",
      "  year={2001},\n",
      "  publisher={Springer}\n",
      "}\n",
      "@inproceedings{denil2014narrowing,\n",
      "  title={Narrowing the gap: Random forests in theory and in practice},\n",
      "  author={Denil, Misha and Matheson, David and De Freitas, Nando},\n",
      "  booktitle={International conference on machine learning},\n",
      "  pages={665--673},\n",
      "  year={2014},\n",
      "  organization={PMLR}\n",
      "}\n",
      "@article{hoangmachine,\n",
      "  title={Machine Learning Methods in Finance: Recent Applications and Prospects},\n",
      "  author={Hoang, Daniel and Wiegratz, Kevin}\n",
      "}\n",
      "@article{teodorescu2017machine,\n",
      "  title={Machine Learning methods for strategy research},\n",
      "  author={Teodorescu, Mike},\n",
      "  journal={Harvard Business School Research Paper Series},\n",
      "  number={18-011},\n",
      "  year={2017}\n",
      "}\n",
      "@phdthesis{menezes2016adidas,\n",
      "  title={Adidas Group: equity valuation thesis},\n",
      "  author={Menezes, Jo{\\~a}o Francisco Carvalho Gomes},\n",
      "  year={2016}\n",
      "}\n",
      "@article{arroyo2019assessment,\n",
      "  title={Assessment of machine learning performance for decision support in venture capital investments},\n",
      "  author={Arroyo, Javier and Corea, Francesco and Jimenez-Diaz, Guillermo and Recio-Garcia, Juan A},\n",
      "  journal={Ieee Access},\n",
      "  volume={7},\n",
      "  pages={124233--124243},\n",
      "  year={2019},\n",
      "  publisher={IEEE}\n",
      "}\n",
      "@phdthesis{marwala2010forecasting,\n",
      "  title={Forecasting the stock market index using artificial intelligence techniques},\n",
      "  author={Marwala, Lufuno Ronald},\n",
      "  year={2010}\n",
      "}\n",
      "@article{chui2017artificial,\n",
      "  title={Artificial intelligence the next digital frontier},\n",
      "  author={Chui, Michael},\n",
      "  journal={McKinsey and Company Global Institute},\n",
      "  volume={47},\n",
      "  pages={3--6},\n",
      "  year={2017}\n",
      "}\n"
     ]
    }
   ],
   "source": [
    "for i in listofcites:\n",
    "    print(i)"
   ]
  },
  {
   "cell_type": "code",
   "execution_count": 8,
   "metadata": {},
   "outputs": [],
   "source": [
    "a = [1,2,3,4,5]"
   ]
  },
  {
   "cell_type": "code",
   "execution_count": 9,
   "metadata": {},
   "outputs": [],
   "source": [
    "b = a.pop()"
   ]
  },
  {
   "cell_type": "code",
   "execution_count": 10,
   "metadata": {},
   "outputs": [
    {
     "data": {
      "text/plain": [
       "5"
      ]
     },
     "execution_count": 10,
     "metadata": {},
     "output_type": "execute_result"
    }
   ],
   "source": [
    "b"
   ]
  },
  {
   "cell_type": "code",
   "execution_count": 11,
   "metadata": {},
   "outputs": [
    {
     "data": {
      "text/plain": [
       "[1, 2, 3, 4]"
      ]
     },
     "execution_count": 11,
     "metadata": {},
     "output_type": "execute_result"
    }
   ],
   "source": [
    "a"
   ]
  },
  {
   "cell_type": "code",
   "execution_count": null,
   "metadata": {},
   "outputs": [],
   "source": []
  }
 ],
 "metadata": {
  "kernelspec": {
   "display_name": "Python 3",
   "language": "python",
   "name": "python3"
  },
  "language_info": {
   "codemirror_mode": {
    "name": "ipython",
    "version": 3
   },
   "file_extension": ".py",
   "mimetype": "text/x-python",
   "name": "python",
   "nbconvert_exporter": "python",
   "pygments_lexer": "ipython3",
   "version": "3.8.5"
  }
 },
 "nbformat": 4,
 "nbformat_minor": 4
}
