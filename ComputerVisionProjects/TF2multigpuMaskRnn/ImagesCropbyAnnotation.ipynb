{
 "cells": [
  {
   "cell_type": "markdown",
   "metadata": {},
   "source": [
    "# Custom Training"
   ]
  },
  {
   "cell_type": "markdown",
   "metadata": {},
   "source": [
    "#### first let's make data for our models"
   ]
  },
  {
   "cell_type": "markdown",
   "metadata": {},
   "source": [
    "reduce size of image using trimage"
   ]
  },
  {
   "cell_type": "markdown",
   "metadata": {},
   "source": [
    "for lines in csv file:\n",
    "    open line find filename- open image \n",
    "    open annotation cordinate infront of image \n",
    "    crop image \n",
    "    save image and corrusponding annotation with same name\n",
    "    "
   ]
  },
  {
   "cell_type": "code",
   "execution_count": 2,
   "metadata": {},
   "outputs": [
    {
     "name": "stdout",
     "output_type": "stream",
     "text": [
      "['IMG-20190311-WA0038.jpg', '445.91874180865005', '270.37762237762234', '542.5478374836173', '391.21678321678314', 'nagendra']\n",
      "SD6ZIMG-20190311-WA0038.jpg,nagendra\n",
      "\n",
      "['IMG-20190311-WA0038.jpg', '581.8034076015728', '282.46153846153845', '654.2752293577981', '392.72727272727275', 'chandravesh']\n",
      "31UJIMG-20190311-WA0038.jpg,chandravesh\n",
      "\n"
     ]
    }
   ],
   "source": [
    "import os\n",
    "import csv\n",
    "import string \n",
    "import random\n",
    "from PIL import Image\n",
    "\n",
    "filename = \"validation.csv\"\n",
    "path = \"/home/chaudharyubuntu/Desktop/2/onepic\"\n",
    "saved = \"/home/chaudharyubuntu/Desktop/2/new_val_pic\"\n",
    "with open(filename) as f:\n",
    "    f_csv = csv.reader(f) \n",
    "    headers = next(f_csv) \n",
    "    for row in f_csv:\n",
    "        print(row)\n",
    "        image_path = os.path.join(path,row[0])\n",
    "        image_obj = Image.open(image_path)\n",
    "        xmin= float(row[1])\n",
    "        ymin= float(row[2])\n",
    "        xmax= float(row[3])\n",
    "        ymax= float(row[4])\n",
    "        \n",
    "        cropped_image = image_obj.crop((xmin,ymin,xmax,ymax))\n",
    "        \n",
    "        res = ''.join(random.choices(string.ascii_uppercase + string.digits, k = 4))\n",
    "        new_name = res+row[0]\n",
    "        save_path= os.path.join(saved,new_name)\n",
    "        cropped_image.save(save_path)\n",
    "        txtfile = open(\"VALannotation.txt\", \"a\")\n",
    "        txtfile.write(new_name+\",\"+row[5]+\"\\n\")\n",
    "        txtfile.close()\n",
    "        print(new_name+\",\"+row[5]+\"\\n\")\n",
    "        \n",
    "        \n",
    "        \n"
   ]
  },
  {
   "cell_type": "code",
   "execution_count": 56,
   "metadata": {},
   "outputs": [],
   "source": [
    "from PIL import Image\n",
    "\n",
    "im = Image.open(\"/home/chaudharyubuntu/Desktop/2/new_train_pics/60SSScreenshot_2019-10-22-10-37-03-374_com.android.chrome.png\")\n",
    "rgb_im = im.convert('RGB')\n",
    "rgb_im.save('60SSScreenshot_2019-10-22-10-37-03-374_com.android.chrome.jpg')"
   ]
  }
 ],
 "metadata": {
  "kernelspec": {
   "display_name": "Python 3",
   "language": "python",
   "name": "python3"
  },
  "language_info": {
   "codemirror_mode": {
    "name": "ipython",
    "version": 3
   },
   "file_extension": ".py",
   "mimetype": "text/x-python",
   "name": "python",
   "nbconvert_exporter": "python",
   "pygments_lexer": "ipython3",
   "version": "3.7.4"
  }
 },
 "nbformat": 4,
 "nbformat_minor": 4
}
