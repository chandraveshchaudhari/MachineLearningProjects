{
 "cells": [
  {
   "cell_type": "markdown",
   "metadata": {},
   "source": [
    "# tensorflow upgrade script to 2.0"
   ]
  },
  {
   "cell_type": "markdown",
   "metadata": {},
   "source": [
    "### mask rcnn upgrade"
   ]
  },
  {
   "cell_type": "code",
   "execution_count": 3,
   "metadata": {},
   "outputs": [
    {
     "name": "stdout",
     "output_type": "stream",
     "text": [
      "INFO line 287:62: Added keywords to args of function 'tf.shape'\n",
      "INFO line 324:55: Added keywords to args of function 'tf.shape'\n",
      "INFO line 325:24: Added keywords to args of function 'tf.pad'\n",
      "INFO line 341:11: Renamed 'tf.log' to 'tf.math.log'\n",
      "INFO line 341:23: Renamed 'tf.log' to 'tf.math.log'\n",
      "INFO line 399:17: Renamed 'tf.where' to 'tf.compat.v1.where'\n",
      "INFO line 431:44: Added keywords to args of function 'tf.shape'\n",
      "INFO line 439:43: Added keywords to args of function 'tf.shape'\n",
      "INFO line 445:27: Added keywords to args of function 'tf.shape'\n",
      "INFO line 445:48: Added keywords to args of function 'tf.shape'\n",
      "INFO line 466:35: Added keywords to args of function 'tf.shape'\n",
      "INFO line 467:26: Added keywords to args of function 'tf.shape'\n",
      "INFO line 482:32: Added keywords to args of function 'tf.shape'\n",
      "INFO line 482:53: Added keywords to args of function 'tf.shape'\n",
      "INFO line 509:29: Added keywords to args of function 'tf.shape'\n",
      "INFO line 518:19: Added keywords to args of function 'tf.boolean_mask'\n",
      "INFO line 520:35: Renamed 'tf.where' to 'tf.compat.v1.where'\n",
      "INFO line 526:15: Renamed 'tf.where' to 'tf.compat.v1.where'\n",
      "INFO line 527:19: Renamed 'tf.where' to 'tf.compat.v1.where'\n",
      "INFO line 538:20: Added keywords to args of function 'tf.reduce_max'\n",
      "INFO line 542:18: Added keywords to args of function 'tf.reduce_max'\n",
      "INFO line 545:23: Renamed 'tf.where' to 'tf.compat.v1.where'\n",
      "INFO line 547:23: Renamed 'tf.where' to 'tf.compat.v1.where'\n",
      "INFO line 553:23: Renamed 'tf.random_shuffle' to 'tf.random.shuffle'\n",
      "INFO line 554:21: Added keywords to args of function 'tf.shape'\n",
      "INFO line 558:23: Renamed 'tf.random_shuffle' to 'tf.random.shuffle'\n",
      "INFO line 565:28: Added keywords to args of function 'tf.cond'\n",
      "INFO line 566:19: Added keywords to args of function 'tf.shape'\n",
      "INFO line 567:26: Added keywords to args of function 'tf.argmax'\n",
      "INFO line 579:38: Added keywords to args of function 'tf.transpose'\n",
      "INFO line 597:26: Added keywords to args of function 'tf.shape'\n",
      "INFO line 611:8: Added keywords to args of function 'tf.shape'\n",
      "INFO line 612:49: Added keywords to args of function 'tf.shape'\n",
      "INFO line 613:11: Added keywords to args of function 'tf.pad'\n",
      "INFO line 614:19: Added keywords to args of function 'tf.pad'\n",
      "INFO line 615:23: Added keywords to args of function 'tf.pad'\n",
      "INFO line 616:13: Added keywords to args of function 'tf.pad'\n",
      "INFO line 617:12: Added keywords to args of function 'tf.pad'\n",
      "INFO line 700:16: Added keywords to args of function 'tf.argmax'\n",
      "INFO line 716:11: Renamed 'tf.where' to 'tf.compat.v1.where'\n",
      "INFO line 719:20: Renamed 'tf.where' to 'tf.compat.v1.where'\n",
      "INFO line 720:15: Renamed 'tf.sets.set_intersection' to 'tf.sets.intersection'\n",
      "INFO line 722:15: Renamed 'tf.sparse_tensor_to_dense' to 'tf.sparse.to_dense'\n",
      "INFO line 734:14: Renamed 'tf.where' to 'tf.compat.v1.where'\n",
      "INFO line 744:47: Added keywords to args of function 'tf.shape'\n",
      "INFO line 745:21: Added keywords to args of function 'tf.pad'\n",
      "INFO line 756:35: Renamed 'tf.where' to 'tf.compat.v1.where'\n",
      "INFO line 758:11: Renamed 'tf.sets.set_intersection' to 'tf.sets.intersection'\n",
      "INFO line 760:11: Renamed 'tf.sparse_tensor_to_dense' to 'tf.sparse.to_dense'\n",
      "INFO line 764:26: Added keywords to args of function 'tf.shape'\n",
      "INFO line 772:8: Changed tf.to_float call to tf.cast(..., dtype=tf.float32).\n",
      "INFO line 777:43: Added keywords to args of function 'tf.shape'\n",
      "INFO line 778:17: Added keywords to args of function 'tf.pad'\n",
      "INFO line 857:33: Added keywords to args of function 'tf.shape'\n",
      "INFO line 869:50: Added keywords to args of function 'tf.shape'\n",
      "INFO line 1035:14: Renamed 'tf.where' to 'tf.compat.v1.where'\n",
      "INFO line 1043:20: Added keywords to args of function 'tf.size'\n",
      "INFO line 1060:14: Renamed 'tf.where' to 'tf.compat.v1.where'\n",
      "INFO line 1072:20: Added keywords to args of function 'tf.size'\n",
      "INFO line 1093:21: Added keywords to args of function 'tf.argmax'\n",
      "INFO line 1108:11: Added keywords to args of function 'tf.reduce_sum'\n",
      "INFO line 1108:33: Added keywords to args of function 'tf.reduce_sum'\n",
      "INFO line 1126:22: Renamed 'tf.where' to 'tf.compat.v1.where'\n",
      "INFO line 1136:20: Added keywords to args of function 'tf.size'\n",
      "INFO line 1154:17: Added keywords to args of function 'tf.shape'\n",
      "INFO line 1156:17: Added keywords to args of function 'tf.shape'\n",
      "INFO line 1160:17: Added keywords to args of function 'tf.transpose'\n",
      "INFO line 1164:18: Renamed 'tf.where' to 'tf.compat.v1.where'\n",
      "INFO line 1175:20: Added keywords to args of function 'tf.size'\n",
      "INFO line 2173:16: Added keywords to args of function 'tf.reduce_mean'\n",
      "INFO line 2180:73: Added keywords to args of function 'tf.size'\n",
      "INFO line 2197:16: Added keywords to args of function 'tf.reduce_mean'\n",
      "INFO line 2822:24: Added keywords to args of function 'tf.reduce_sum'\n",
      "INFO line 2823:12: Added keywords to args of function 'tf.boolean_mask'\n",
      "INFO line 202:9: Renamed 'tf.log' to 'tf.math.log'\n",
      "INFO line 203:9: Renamed 'tf.log' to 'tf.math.log'\n",
      "INFO line 72:21: `name` passed to `name_scope`. Because you may be re-entering an existing scope, it is not safe to convert automatically,  the v2 name_scope does not support re-entering scopes by name.\n",
      "\n",
      "INFO line 72:21: Renamed 'tf.name_scope' to 'tf.compat.v1.name_scope'\n",
      "INFO line 132:8: Renamed 'tf.reset_default_graph' to 'tf.compat.v1.reset_default_graph'\n",
      "TensorFlow 2.0 Upgrade Script\n",
      "-----------------------------\n",
      "Converted 17 files\n",
      "Detected 0 issues that require attention\n",
      "--------------------------------------------------------------------------------\n",
      "\n",
      "\n",
      "Make sure to read the detailed log 'mask_RCNNv2_report.txt'\n",
      "\n"
     ]
    }
   ],
   "source": [
    "!tf_upgrade_v2 \\\n",
    "    --intree /home/chaudharyubuntu/Desktop/models/Mask_RCNN/ \\\n",
    "    --outtree /home/chaudharyubuntu/Desktop/models/Mask_RCNN_v2/ \\\n",
    "    --reportfile mask_RCNNv2_report.txt"
   ]
  },
  {
   "cell_type": "code",
   "execution_count": 2,
   "metadata": {},
   "outputs": [
    {
     "data": {
      "text/plain": [
       "'/home/chaudharyubuntu/Desktop/models'"
      ]
     },
     "execution_count": 2,
     "metadata": {},
     "output_type": "execute_result"
    }
   ],
   "source": [
    "pwd"
   ]
  },
  {
   "cell_type": "code",
   "execution_count": null,
   "metadata": {},
   "outputs": [],
   "source": [
    "Desktop/models/Mask_RCNN/mrcnn"
   ]
  },
  {
   "cell_type": "code",
   "execution_count": 1,
   "metadata": {},
   "outputs": [
    {
     "name": "stdout",
     "output_type": "stream",
     "text": [
      "INFO line 287:62: Added keywords to args of function 'tf.shape'\n",
      "INFO line 324:55: Added keywords to args of function 'tf.shape'\n",
      "INFO line 325:24: Added keywords to args of function 'tf.pad'\n",
      "INFO line 341:11: Renamed 'tf.log' to 'tf.math.log'\n",
      "INFO line 341:23: Renamed 'tf.log' to 'tf.math.log'\n",
      "INFO line 399:17: Renamed 'tf.where' to 'tf.compat.v1.where'\n",
      "INFO line 431:44: Added keywords to args of function 'tf.shape'\n",
      "INFO line 439:43: Added keywords to args of function 'tf.shape'\n",
      "INFO line 445:27: Added keywords to args of function 'tf.shape'\n",
      "INFO line 445:48: Added keywords to args of function 'tf.shape'\n",
      "INFO line 466:35: Added keywords to args of function 'tf.shape'\n",
      "INFO line 467:26: Added keywords to args of function 'tf.shape'\n",
      "INFO line 482:32: Added keywords to args of function 'tf.shape'\n",
      "INFO line 482:53: Added keywords to args of function 'tf.shape'\n",
      "INFO line 509:29: Added keywords to args of function 'tf.shape'\n",
      "INFO line 518:19: Added keywords to args of function 'tf.boolean_mask'\n",
      "INFO line 520:35: Renamed 'tf.where' to 'tf.compat.v1.where'\n",
      "INFO line 526:15: Renamed 'tf.where' to 'tf.compat.v1.where'\n",
      "INFO line 527:19: Renamed 'tf.where' to 'tf.compat.v1.where'\n",
      "INFO line 538:20: Added keywords to args of function 'tf.reduce_max'\n",
      "INFO line 542:18: Added keywords to args of function 'tf.reduce_max'\n",
      "INFO line 545:23: Renamed 'tf.where' to 'tf.compat.v1.where'\n",
      "INFO line 547:23: Renamed 'tf.where' to 'tf.compat.v1.where'\n",
      "INFO line 553:23: Renamed 'tf.random_shuffle' to 'tf.random.shuffle'\n",
      "INFO line 554:21: Added keywords to args of function 'tf.shape'\n",
      "INFO line 558:23: Renamed 'tf.random_shuffle' to 'tf.random.shuffle'\n",
      "INFO line 565:28: Added keywords to args of function 'tf.cond'\n",
      "INFO line 566:19: Added keywords to args of function 'tf.shape'\n",
      "INFO line 567:26: Added keywords to args of function 'tf.argmax'\n",
      "INFO line 579:38: Added keywords to args of function 'tf.transpose'\n",
      "INFO line 597:26: Added keywords to args of function 'tf.shape'\n",
      "INFO line 611:8: Added keywords to args of function 'tf.shape'\n",
      "INFO line 612:49: Added keywords to args of function 'tf.shape'\n",
      "INFO line 613:11: Added keywords to args of function 'tf.pad'\n",
      "INFO line 614:19: Added keywords to args of function 'tf.pad'\n",
      "INFO line 615:23: Added keywords to args of function 'tf.pad'\n",
      "INFO line 616:13: Added keywords to args of function 'tf.pad'\n",
      "INFO line 617:12: Added keywords to args of function 'tf.pad'\n",
      "INFO line 700:16: Added keywords to args of function 'tf.argmax'\n",
      "INFO line 716:11: Renamed 'tf.where' to 'tf.compat.v1.where'\n",
      "INFO line 719:20: Renamed 'tf.where' to 'tf.compat.v1.where'\n",
      "INFO line 720:15: Renamed 'tf.sets.set_intersection' to 'tf.sets.intersection'\n",
      "INFO line 722:15: Renamed 'tf.sparse_tensor_to_dense' to 'tf.sparse.to_dense'\n",
      "INFO line 734:14: Renamed 'tf.where' to 'tf.compat.v1.where'\n",
      "INFO line 744:47: Added keywords to args of function 'tf.shape'\n",
      "INFO line 745:21: Added keywords to args of function 'tf.pad'\n",
      "INFO line 756:35: Renamed 'tf.where' to 'tf.compat.v1.where'\n",
      "INFO line 758:11: Renamed 'tf.sets.set_intersection' to 'tf.sets.intersection'\n",
      "INFO line 760:11: Renamed 'tf.sparse_tensor_to_dense' to 'tf.sparse.to_dense'\n",
      "INFO line 764:26: Added keywords to args of function 'tf.shape'\n",
      "INFO line 772:8: Changed tf.to_float call to tf.cast(..., dtype=tf.float32).\n",
      "INFO line 777:43: Added keywords to args of function 'tf.shape'\n",
      "INFO line 778:17: Added keywords to args of function 'tf.pad'\n",
      "INFO line 857:33: Added keywords to args of function 'tf.shape'\n",
      "INFO line 869:50: Added keywords to args of function 'tf.shape'\n",
      "INFO line 1035:14: Renamed 'tf.where' to 'tf.compat.v1.where'\n",
      "INFO line 1043:20: Added keywords to args of function 'tf.size'\n",
      "INFO line 1060:14: Renamed 'tf.where' to 'tf.compat.v1.where'\n",
      "INFO line 1072:20: Added keywords to args of function 'tf.size'\n",
      "INFO line 1093:21: Added keywords to args of function 'tf.argmax'\n",
      "INFO line 1108:11: Added keywords to args of function 'tf.reduce_sum'\n",
      "INFO line 1108:33: Added keywords to args of function 'tf.reduce_sum'\n",
      "INFO line 1126:22: Renamed 'tf.where' to 'tf.compat.v1.where'\n",
      "INFO line 1136:20: Added keywords to args of function 'tf.size'\n",
      "INFO line 1154:17: Added keywords to args of function 'tf.shape'\n",
      "INFO line 1156:17: Added keywords to args of function 'tf.shape'\n",
      "INFO line 1160:17: Added keywords to args of function 'tf.transpose'\n",
      "INFO line 1164:18: Renamed 'tf.where' to 'tf.compat.v1.where'\n",
      "INFO line 1175:20: Added keywords to args of function 'tf.size'\n",
      "INFO line 2173:16: Added keywords to args of function 'tf.reduce_mean'\n",
      "INFO line 2180:73: Added keywords to args of function 'tf.size'\n",
      "INFO line 2197:16: Added keywords to args of function 'tf.reduce_mean'\n",
      "INFO line 2822:24: Added keywords to args of function 'tf.reduce_sum'\n",
      "INFO line 2823:12: Added keywords to args of function 'tf.boolean_mask'\n",
      "INFO line 202:9: Renamed 'tf.log' to 'tf.math.log'\n",
      "INFO line 203:9: Renamed 'tf.log' to 'tf.math.log'\n",
      "INFO line 72:21: `name` passed to `name_scope`. Because you may be re-entering an existing scope, it is not safe to convert automatically,  the v2 name_scope does not support re-entering scopes by name.\n",
      "\n",
      "INFO line 72:21: Renamed 'tf.name_scope' to 'tf.compat.v1.name_scope'\n",
      "INFO line 132:8: Renamed 'tf.reset_default_graph' to 'tf.compat.v1.reset_default_graph'\n",
      "INFO line 287:62: Added keywords to args of function 'tf.shape'\n",
      "INFO line 324:55: Added keywords to args of function 'tf.shape'\n",
      "INFO line 325:24: Added keywords to args of function 'tf.pad'\n",
      "INFO line 341:11: Renamed 'tf.log' to 'tf.math.log'\n",
      "INFO line 341:23: Renamed 'tf.log' to 'tf.math.log'\n",
      "INFO line 399:17: Renamed 'tf.where' to 'tf.compat.v1.where'\n",
      "INFO line 431:44: Added keywords to args of function 'tf.shape'\n",
      "INFO line 439:43: Added keywords to args of function 'tf.shape'\n",
      "INFO line 445:27: Added keywords to args of function 'tf.shape'\n",
      "INFO line 445:48: Added keywords to args of function 'tf.shape'\n",
      "INFO line 466:35: Added keywords to args of function 'tf.shape'\n",
      "INFO line 467:26: Added keywords to args of function 'tf.shape'\n",
      "INFO line 482:32: Added keywords to args of function 'tf.shape'\n",
      "INFO line 482:53: Added keywords to args of function 'tf.shape'\n",
      "INFO line 509:29: Added keywords to args of function 'tf.shape'\n",
      "INFO line 518:19: Added keywords to args of function 'tf.boolean_mask'\n",
      "INFO line 520:35: Renamed 'tf.where' to 'tf.compat.v1.where'\n",
      "INFO line 526:15: Renamed 'tf.where' to 'tf.compat.v1.where'\n",
      "INFO line 527:19: Renamed 'tf.where' to 'tf.compat.v1.where'\n",
      "INFO line 538:20: Added keywords to args of function 'tf.reduce_max'\n",
      "INFO line 542:18: Added keywords to args of function 'tf.reduce_max'\n",
      "INFO line 545:23: Renamed 'tf.where' to 'tf.compat.v1.where'\n",
      "INFO line 547:23: Renamed 'tf.where' to 'tf.compat.v1.where'\n",
      "INFO line 553:23: Renamed 'tf.random_shuffle' to 'tf.random.shuffle'\n",
      "INFO line 554:21: Added keywords to args of function 'tf.shape'\n",
      "INFO line 558:23: Renamed 'tf.random_shuffle' to 'tf.random.shuffle'\n",
      "INFO line 565:28: Added keywords to args of function 'tf.cond'\n",
      "INFO line 566:19: Added keywords to args of function 'tf.shape'\n",
      "INFO line 567:26: Added keywords to args of function 'tf.argmax'\n",
      "INFO line 579:38: Added keywords to args of function 'tf.transpose'\n",
      "INFO line 597:26: Added keywords to args of function 'tf.shape'\n",
      "INFO line 611:8: Added keywords to args of function 'tf.shape'\n",
      "INFO line 612:49: Added keywords to args of function 'tf.shape'\n",
      "INFO line 613:11: Added keywords to args of function 'tf.pad'\n",
      "INFO line 614:19: Added keywords to args of function 'tf.pad'\n",
      "INFO line 615:23: Added keywords to args of function 'tf.pad'\n",
      "INFO line 616:13: Added keywords to args of function 'tf.pad'\n",
      "INFO line 617:12: Added keywords to args of function 'tf.pad'\n",
      "INFO line 700:16: Added keywords to args of function 'tf.argmax'\n",
      "INFO line 716:11: Renamed 'tf.where' to 'tf.compat.v1.where'\n",
      "INFO line 719:20: Renamed 'tf.where' to 'tf.compat.v1.where'\n",
      "INFO line 720:15: Renamed 'tf.sets.set_intersection' to 'tf.sets.intersection'\n",
      "INFO line 722:15: Renamed 'tf.sparse_tensor_to_dense' to 'tf.sparse.to_dense'\n",
      "INFO line 734:14: Renamed 'tf.where' to 'tf.compat.v1.where'\n",
      "INFO line 744:47: Added keywords to args of function 'tf.shape'\n",
      "INFO line 745:21: Added keywords to args of function 'tf.pad'\n",
      "INFO line 756:35: Renamed 'tf.where' to 'tf.compat.v1.where'\n",
      "INFO line 758:11: Renamed 'tf.sets.set_intersection' to 'tf.sets.intersection'\n",
      "INFO line 760:11: Renamed 'tf.sparse_tensor_to_dense' to 'tf.sparse.to_dense'\n",
      "INFO line 764:26: Added keywords to args of function 'tf.shape'\n",
      "INFO line 772:8: Changed tf.to_float call to tf.cast(..., dtype=tf.float32).\n",
      "INFO line 777:43: Added keywords to args of function 'tf.shape'\n",
      "INFO line 778:17: Added keywords to args of function 'tf.pad'\n",
      "INFO line 857:33: Added keywords to args of function 'tf.shape'\n",
      "INFO line 869:50: Added keywords to args of function 'tf.shape'\n",
      "INFO line 1035:14: Renamed 'tf.where' to 'tf.compat.v1.where'\n",
      "INFO line 1043:20: Added keywords to args of function 'tf.size'\n",
      "INFO line 1060:14: Renamed 'tf.where' to 'tf.compat.v1.where'\n",
      "INFO line 1072:20: Added keywords to args of function 'tf.size'\n",
      "INFO line 1093:21: Added keywords to args of function 'tf.argmax'\n",
      "INFO line 1108:11: Added keywords to args of function 'tf.reduce_sum'\n",
      "INFO line 1108:33: Added keywords to args of function 'tf.reduce_sum'\n",
      "INFO line 1126:22: Renamed 'tf.where' to 'tf.compat.v1.where'\n",
      "INFO line 1136:20: Added keywords to args of function 'tf.size'\n",
      "INFO line 1154:17: Added keywords to args of function 'tf.shape'\n",
      "INFO line 1156:17: Added keywords to args of function 'tf.shape'\n",
      "INFO line 1160:17: Added keywords to args of function 'tf.transpose'\n",
      "INFO line 1164:18: Renamed 'tf.where' to 'tf.compat.v1.where'\n",
      "INFO line 1175:20: Added keywords to args of function 'tf.size'\n",
      "INFO line 2173:16: Added keywords to args of function 'tf.reduce_mean'\n",
      "INFO line 2180:73: Added keywords to args of function 'tf.size'\n",
      "INFO line 2197:16: Added keywords to args of function 'tf.reduce_mean'\n",
      "INFO line 2822:24: Added keywords to args of function 'tf.reduce_sum'\n",
      "INFO line 2823:12: Added keywords to args of function 'tf.boolean_mask'\n",
      "TensorFlow 2.0 Upgrade Script\n",
      "-----------------------------\n",
      "Converted 7 files\n",
      "Detected 0 issues that require attention\n",
      "--------------------------------------------------------------------------------\n",
      "\n",
      "\n",
      "Make sure to read the detailed log 'mask_RCNNv2_report.txt'\n",
      "\n"
     ]
    }
   ],
   "source": [
    "!tf_upgrade_v2 \\\n",
    "    --intree /home/chaudharyubuntu/Desktop/models/Mask_RCNN/mrcnn \\\n",
    "    --outtree /home/chaudharyubuntu/Desktop/models/mrcnn_v2/ \\\n",
    "    --reportfile mask_RCNNv2_report.txt"
   ]
  },
  {
   "cell_type": "code",
   "execution_count": 1,
   "metadata": {},
   "outputs": [
    {
     "data": {
      "text/plain": [
       "'/home/chaudharyubuntu/Desktop/models'"
      ]
     },
     "execution_count": 1,
     "metadata": {},
     "output_type": "execute_result"
    }
   ],
   "source": [
    "pwd"
   ]
  },
  {
   "cell_type": "code",
   "execution_count": 2,
   "metadata": {},
   "outputs": [
    {
     "name": "stdout",
     "output_type": "stream",
     "text": [
      "\u001b[0m\u001b[01;34m2_2_YOLO\u001b[0m/               \u001b[01;34mPyTorch-YOLOv3\u001b[0m/           \u001b[01;34myad2k\u001b[0m/\n",
      "\u001b[01;34mkeras-yolo3\u001b[0m/            \u001b[01;34mqqwwee_kerasyolo\u001b[0m/         \u001b[01;34myolov3\u001b[0m/\n",
      "\u001b[01;34mMask_RCNN\u001b[0m/              tensorflow_upgrade.ipynb  \u001b[01;34mYOLOv3_TensorFlow\u001b[0m/\n",
      "mask_RCNNv2_report.txt  \u001b[01;34mtensorflow-yolov3\u001b[0m/        \u001b[01;34myolo_v3-tensorflow-ipynb\u001b[0m/\n"
     ]
    }
   ],
   "source": [
    "ls"
   ]
  },
  {
   "cell_type": "code",
   "execution_count": 3,
   "metadata": {},
   "outputs": [
    {
     "name": "stdout",
     "output_type": "stream",
     "text": [
      "/home/chaudharyubuntu/Desktop/models/keras-yolo3\n"
     ]
    }
   ],
   "source": [
    "cd keras-yolo3/"
   ]
  },
  {
   "cell_type": "code",
   "execution_count": 5,
   "metadata": {},
   "outputs": [
    {
     "name": "stdout",
     "output_type": "stream",
     "text": [
      "Using TensorFlow backend.\n",
      "Traceback (most recent call last):\n",
      "  File \"yolo3_one_file_to_detect_them_all.py\", line 10, in <module>\n",
      "    np.set_printoptions(threshold=np.nan)\n",
      "  File \"/home/chaudharyubuntu/anaconda3/envs/tensorflow/lib/python3.7/site-packages/numpy/core/arrayprint.py\", line 247, in set_printoptions\n",
      "    floatmode, legacy)\n",
      "  File \"/home/chaudharyubuntu/anaconda3/envs/tensorflow/lib/python3.7/site-packages/numpy/core/arrayprint.py\", line 93, in _make_options_dict\n",
      "    raise ValueError(\"threshold must be numeric and non-NAN, try \"\n",
      "ValueError: threshold must be numeric and non-NAN, try sys.maxsize for untruncated representation\n"
     ]
    }
   ],
   "source": [
    "!python yolo3_one_file_to_detect_them_all.py -w yolo3.weights -i dog.jpg"
   ]
  },
  {
   "cell_type": "code",
   "execution_count": null,
   "metadata": {},
   "outputs": [],
   "source": []
  }
 ],
 "metadata": {
  "kernelspec": {
   "display_name": "Python 3",
   "language": "python",
   "name": "python3"
  },
  "language_info": {
   "codemirror_mode": {
    "name": "ipython",
    "version": 3
   },
   "file_extension": ".py",
   "mimetype": "text/x-python",
   "name": "python",
   "nbconvert_exporter": "python",
   "pygments_lexer": "ipython3",
   "version": "3.7.4"
  }
 },
 "nbformat": 4,
 "nbformat_minor": 4
}
